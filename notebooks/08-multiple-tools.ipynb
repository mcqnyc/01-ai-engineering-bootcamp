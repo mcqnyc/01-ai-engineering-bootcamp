{
 "cells": [
  {
   "cell_type": "code",
   "execution_count": 3,
   "id": "8f3cde4e",
   "metadata": {},
   "outputs": [],
   "source": [
    "from qdrant_client import QdrantClient\n",
    "from qdrant_client.models import Distance, VectorParams, PointStruct, PayloadSchemaType, MatchAny, Prefetch, Filter, FieldCondition, FusionQuery\n",
    "\n",
    "import pandas as pd\n",
    "import openai\n",
    "import json\n",
    "import tiktoken"
   ]
  },
  {
   "cell_type": "code",
   "execution_count": 4,
   "id": "6df4d35c",
   "metadata": {},
   "outputs": [],
   "source": [
    "\n",
    "import os\n",
    "\n",
    "api_key = os.getenv(\"OPENAI_API_KEY\")\n",
    "if not api_key:\n",
    "    api_key = input(\"Please enter your OpenAI API key: \").strip()\n",
    "    os.environ[\"OPENAI_API_KEY\"] = api_key\n",
    "    if not api_key:\n",
    "        raise ValueError(\"API key is required.\")"
   ]
  },
  {
   "cell_type": "code",
   "execution_count": null,
   "id": "092f4aad",
   "metadata": {},
   "outputs": [],
   "source": []
  },
  {
   "cell_type": "markdown",
   "id": "8fc966db",
   "metadata": {},
   "source": [
    "### Load AMazon Dataset (items)"
   ]
  },
  {
   "cell_type": "code",
   "execution_count": 5,
   "id": "c03616ea",
   "metadata": {},
   "outputs": [],
   "source": [
    "df_items = pd.read_json(\"../data/meta_Electronics_2022_2023_with_category_ratings_100_sample_1000.jsonl\", lines=True)"
   ]
  },
  {
   "cell_type": "code",
   "execution_count": 6,
   "id": "6afb38b0",
   "metadata": {},
   "outputs": [],
   "source": [
    "df_items_sample = df_items.sample(50, random_state=25)"
   ]
  },
  {
   "cell_type": "markdown",
   "id": "f281d944",
   "metadata": {},
   "source": [
    "### Define functions to preprocess title and features data and xtract image URL from the first large image in the list"
   ]
  },
  {
   "cell_type": "code",
   "execution_count": 8,
   "id": "bcd515d9",
   "metadata": {},
   "outputs": [],
   "source": [
    "def preprocess_items_data(row):\n",
    "    return f\"{row['title']} {' '.join(row['features'])}\""
   ]
  },
  {
   "cell_type": "code",
   "execution_count": 7,
   "id": "d9309060",
   "metadata": {},
   "outputs": [],
   "source": [
    "def extract_first_large_image(row):\n",
    "    return row['images'][0].get('large', '')"
   ]
  },
  {
   "cell_type": "code",
   "execution_count": 9,
   "id": "e59a5867",
   "metadata": {},
   "outputs": [],
   "source": [
    "df_items_sample[\"preprocessed_data\"] = df_items_sample.apply(preprocess_items_data, axis=1)\n",
    "df_items_sample[\"first_large_image\"] = df_items_sample.apply(extract_first_large_image, axis=1)\n"
   ]
  },
  {
   "cell_type": "code",
   "execution_count": 10,
   "id": "f0ed7130",
   "metadata": {},
   "outputs": [
    {
     "data": {
      "text/html": [
       "<div>\n",
       "<style scoped>\n",
       "    .dataframe tbody tr th:only-of-type {\n",
       "        vertical-align: middle;\n",
       "    }\n",
       "\n",
       "    .dataframe tbody tr th {\n",
       "        vertical-align: top;\n",
       "    }\n",
       "\n",
       "    .dataframe thead th {\n",
       "        text-align: right;\n",
       "    }\n",
       "</style>\n",
       "<table border=\"1\" class=\"dataframe\">\n",
       "  <thead>\n",
       "    <tr style=\"text-align: right;\">\n",
       "      <th></th>\n",
       "      <th>main_category</th>\n",
       "      <th>title</th>\n",
       "      <th>average_rating</th>\n",
       "      <th>rating_number</th>\n",
       "      <th>features</th>\n",
       "      <th>description</th>\n",
       "      <th>price</th>\n",
       "      <th>images</th>\n",
       "      <th>videos</th>\n",
       "      <th>store</th>\n",
       "      <th>categories</th>\n",
       "      <th>details</th>\n",
       "      <th>parent_asin</th>\n",
       "      <th>bought_together</th>\n",
       "      <th>subtitle</th>\n",
       "      <th>author</th>\n",
       "      <th>preprocessed_data</th>\n",
       "      <th>first_large_image</th>\n",
       "    </tr>\n",
       "  </thead>\n",
       "  <tbody>\n",
       "    <tr>\n",
       "      <th>688</th>\n",
       "      <td>All Electronics</td>\n",
       "      <td>Bluetooth Car Adapter, LDNIO Bluetooth FM Tran...</td>\n",
       "      <td>3.8</td>\n",
       "      <td>110</td>\n",
       "      <td>[Fast Charging Type C, Multi Ports: USB Type C...</td>\n",
       "      <td>[]</td>\n",
       "      <td>21.00</td>\n",
       "      <td>[{'thumb': 'https://m.media-amazon.com/images/...</td>\n",
       "      <td>[{'title': 'Bluetooth FM adapter', 'url': 'htt...</td>\n",
       "      <td>LDNIO</td>\n",
       "      <td>[Electronics, Portable Audio &amp; Video, MP3 &amp; MP...</td>\n",
       "      <td>{'Package Dimensions': '6.22 x 3.23 x 1.73 inc...</td>\n",
       "      <td>B09MCY26HF</td>\n",
       "      <td>NaN</td>\n",
       "      <td>NaN</td>\n",
       "      <td>NaN</td>\n",
       "      <td>Bluetooth Car Adapter, LDNIO Bluetooth FM Tran...</td>\n",
       "      <td>https://m.media-amazon.com/images/I/41gqwN41Wp...</td>\n",
       "    </tr>\n",
       "    <tr>\n",
       "      <th>49</th>\n",
       "      <td>Computers</td>\n",
       "      <td>Bluetooth Multi-Device Keyboard, Dual Channel ...</td>\n",
       "      <td>4.6</td>\n",
       "      <td>199</td>\n",
       "      <td>[【Easy-Switch to 2 Devices】 Simply press the F...</td>\n",
       "      <td>[MULTI-DEVICE BLUETOOTH KEYBOARD, SMOOTH TYPIN...</td>\n",
       "      <td>26.99</td>\n",
       "      <td>[{'thumb': 'https://m.media-amazon.com/images/...</td>\n",
       "      <td>[{'title': 'Don’t do it!', 'url': 'https://www...</td>\n",
       "      <td>TechGarden</td>\n",
       "      <td>[Electronics, Computers &amp; Accessories, Compute...</td>\n",
       "      <td>{'Package Dimensions': '12.28 x 8.54 x 1.22 in...</td>\n",
       "      <td>B09T2J1LSB</td>\n",
       "      <td>NaN</td>\n",
       "      <td>NaN</td>\n",
       "      <td>NaN</td>\n",
       "      <td>Bluetooth Multi-Device Keyboard, Dual Channel ...</td>\n",
       "      <td>https://m.media-amazon.com/images/I/41U69pTP3j...</td>\n",
       "    </tr>\n",
       "  </tbody>\n",
       "</table>\n",
       "</div>"
      ],
      "text/plain": [
       "       main_category                                              title  \\\n",
       "688  All Electronics  Bluetooth Car Adapter, LDNIO Bluetooth FM Tran...   \n",
       "49         Computers  Bluetooth Multi-Device Keyboard, Dual Channel ...   \n",
       "\n",
       "     average_rating  rating_number  \\\n",
       "688             3.8            110   \n",
       "49              4.6            199   \n",
       "\n",
       "                                              features  \\\n",
       "688  [Fast Charging Type C, Multi Ports: USB Type C...   \n",
       "49   [【Easy-Switch to 2 Devices】 Simply press the F...   \n",
       "\n",
       "                                           description  price  \\\n",
       "688                                                 []  21.00   \n",
       "49   [MULTI-DEVICE BLUETOOTH KEYBOARD, SMOOTH TYPIN...  26.99   \n",
       "\n",
       "                                                images  \\\n",
       "688  [{'thumb': 'https://m.media-amazon.com/images/...   \n",
       "49   [{'thumb': 'https://m.media-amazon.com/images/...   \n",
       "\n",
       "                                                videos       store  \\\n",
       "688  [{'title': 'Bluetooth FM adapter', 'url': 'htt...       LDNIO   \n",
       "49   [{'title': 'Don’t do it!', 'url': 'https://www...  TechGarden   \n",
       "\n",
       "                                            categories  \\\n",
       "688  [Electronics, Portable Audio & Video, MP3 & MP...   \n",
       "49   [Electronics, Computers & Accessories, Compute...   \n",
       "\n",
       "                                               details parent_asin  \\\n",
       "688  {'Package Dimensions': '6.22 x 3.23 x 1.73 inc...  B09MCY26HF   \n",
       "49   {'Package Dimensions': '12.28 x 8.54 x 1.22 in...  B09T2J1LSB   \n",
       "\n",
       "     bought_together  subtitle  author  \\\n",
       "688              NaN       NaN     NaN   \n",
       "49               NaN       NaN     NaN   \n",
       "\n",
       "                                     preprocessed_data  \\\n",
       "688  Bluetooth Car Adapter, LDNIO Bluetooth FM Tran...   \n",
       "49   Bluetooth Multi-Device Keyboard, Dual Channel ...   \n",
       "\n",
       "                                     first_large_image  \n",
       "688  https://m.media-amazon.com/images/I/41gqwN41Wp...  \n",
       "49   https://m.media-amazon.com/images/I/41U69pTP3j...  "
      ]
     },
     "execution_count": 10,
     "metadata": {},
     "output_type": "execute_result"
    }
   ],
   "source": [
    "df_items_sample.head(2)"
   ]
  },
  {
   "cell_type": "markdown",
   "id": "d4e1be8f",
   "metadata": {},
   "source": [
    "### Load Amazon dataset (reviews)"
   ]
  },
  {
   "cell_type": "code",
   "execution_count": 11,
   "id": "3d5da417",
   "metadata": {},
   "outputs": [],
   "source": [
    "df_reviews = pd.read_json(\"../data/Electronics_2022_2023_with_category_ratings_100_sample_1000.jsonl\", lines=True)"
   ]
  },
  {
   "cell_type": "code",
   "execution_count": 12,
   "id": "a1a1a47b",
   "metadata": {},
   "outputs": [
    {
     "data": {
      "text/plain": [
       "105918"
      ]
     },
     "execution_count": 12,
     "metadata": {},
     "output_type": "execute_result"
    }
   ],
   "source": [
    "len(df_reviews)"
   ]
  },
  {
   "cell_type": "code",
   "execution_count": 13,
   "id": "4b6561c4",
   "metadata": {},
   "outputs": [],
   "source": [
    "df_reviews_sample = df_reviews[df_reviews['parent_asin'].isin(df_items_sample['parent_asin'])]"
   ]
  },
  {
   "cell_type": "code",
   "execution_count": 14,
   "id": "980db680",
   "metadata": {},
   "outputs": [
    {
     "data": {
      "text/html": [
       "<div>\n",
       "<style scoped>\n",
       "    .dataframe tbody tr th:only-of-type {\n",
       "        vertical-align: middle;\n",
       "    }\n",
       "\n",
       "    .dataframe tbody tr th {\n",
       "        vertical-align: top;\n",
       "    }\n",
       "\n",
       "    .dataframe thead th {\n",
       "        text-align: right;\n",
       "    }\n",
       "</style>\n",
       "<table border=\"1\" class=\"dataframe\">\n",
       "  <thead>\n",
       "    <tr style=\"text-align: right;\">\n",
       "      <th></th>\n",
       "      <th>rating</th>\n",
       "      <th>title</th>\n",
       "      <th>text</th>\n",
       "      <th>images</th>\n",
       "      <th>asin</th>\n",
       "      <th>parent_asin</th>\n",
       "      <th>user_id</th>\n",
       "      <th>timestamp</th>\n",
       "      <th>helpful_vote</th>\n",
       "      <th>verified_purchase</th>\n",
       "    </tr>\n",
       "  </thead>\n",
       "  <tbody>\n",
       "    <tr>\n",
       "      <th>18</th>\n",
       "      <td>5</td>\n",
       "      <td>So comfortable you can sleep in them</td>\n",
       "      <td>So comfortable that I even sleep with them eve...</td>\n",
       "      <td>[]</td>\n",
       "      <td>B082D8VGMQ</td>\n",
       "      <td>B098K6N6TX</td>\n",
       "      <td>AFCV25KA7XSAJGTZRDML5B7UYOVQ</td>\n",
       "      <td>2020-10-04 03:27:23.549</td>\n",
       "      <td>1</td>\n",
       "      <td>True</td>\n",
       "    </tr>\n",
       "    <tr>\n",
       "      <th>40</th>\n",
       "      <td>5</td>\n",
       "      <td>Less filter choices does not always mean less ...</td>\n",
       "      <td>So I have a few ND filter sets for my mini 3 f...</td>\n",
       "      <td>[]</td>\n",
       "      <td>B0B58CW7FK</td>\n",
       "      <td>B0C5HKTYVC</td>\n",
       "      <td>AHR4BEXIRURKL3POXW5RJFJLJDQQ</td>\n",
       "      <td>2022-10-26 16:14:29.401</td>\n",
       "      <td>3</td>\n",
       "      <td>False</td>\n",
       "    </tr>\n",
       "  </tbody>\n",
       "</table>\n",
       "</div>"
      ],
      "text/plain": [
       "    rating                                              title  \\\n",
       "18       5               So comfortable you can sleep in them   \n",
       "40       5  Less filter choices does not always mean less ...   \n",
       "\n",
       "                                                 text images        asin  \\\n",
       "18  So comfortable that I even sleep with them eve...     []  B082D8VGMQ   \n",
       "40  So I have a few ND filter sets for my mini 3 f...     []  B0B58CW7FK   \n",
       "\n",
       "   parent_asin                       user_id               timestamp  \\\n",
       "18  B098K6N6TX  AFCV25KA7XSAJGTZRDML5B7UYOVQ 2020-10-04 03:27:23.549   \n",
       "40  B0C5HKTYVC  AHR4BEXIRURKL3POXW5RJFJLJDQQ 2022-10-26 16:14:29.401   \n",
       "\n",
       "    helpful_vote  verified_purchase  \n",
       "18             1               True  \n",
       "40             3              False  "
      ]
     },
     "execution_count": 14,
     "metadata": {},
     "output_type": "execute_result"
    }
   ],
   "source": [
    "df_reviews_sample.head(2)"
   ]
  },
  {
   "cell_type": "markdown",
   "id": "c77734d9",
   "metadata": {},
   "source": [
    "### Define functions to preprocess reviews data"
   ]
  },
  {
   "cell_type": "code",
   "execution_count": 15,
   "id": "688d0ba1",
   "metadata": {},
   "outputs": [],
   "source": [
    "def preprocess_reviews_data(row):\n",
    "    return f\"{row['title']} {row['text']}\""
   ]
  },
  {
   "cell_type": "code",
   "execution_count": 16,
   "id": "ab5510ea",
   "metadata": {},
   "outputs": [],
   "source": [
    "def token_count(row, model=\"text-embedding-3-small\"):\n",
    "    encoding = tiktoken.encoding_for_model(model)\n",
    "    return len(encoding.encode(row['preprocessed_data']))"
   ]
  },
  {
   "cell_type": "code",
   "execution_count": 17,
   "id": "f2103cb6",
   "metadata": {},
   "outputs": [
    {
     "name": "stderr",
     "output_type": "stream",
     "text": [
      "/var/folders/xm/dt7ng36s29d8t3bfld7kp7w80000gn/T/ipykernel_21794/3686930049.py:1: SettingWithCopyWarning: \n",
      "A value is trying to be set on a copy of a slice from a DataFrame.\n",
      "Try using .loc[row_indexer,col_indexer] = value instead\n",
      "\n",
      "See the caveats in the documentation: https://pandas.pydata.org/pandas-docs/stable/user_guide/indexing.html#returning-a-view-versus-a-copy\n",
      "  df_reviews_sample[\"preprocessed_data\"] = df_reviews_sample.apply(preprocess_reviews_data, axis=1)\n",
      "/var/folders/xm/dt7ng36s29d8t3bfld7kp7w80000gn/T/ipykernel_21794/3686930049.py:2: SettingWithCopyWarning: \n",
      "A value is trying to be set on a copy of a slice from a DataFrame.\n",
      "Try using .loc[row_indexer,col_indexer] = value instead\n",
      "\n",
      "See the caveats in the documentation: https://pandas.pydata.org/pandas-docs/stable/user_guide/indexing.html#returning-a-view-versus-a-copy\n",
      "  df_reviews_sample[\"preprocessed_data_token_count\"] = df_reviews_sample.apply(token_count, axis=1)\n"
     ]
    }
   ],
   "source": [
    "df_reviews_sample[\"preprocessed_data\"] = df_reviews_sample.apply(preprocess_reviews_data, axis=1)\n",
    "df_reviews_sample[\"preprocessed_data_token_count\"] = df_reviews_sample.apply(token_count, axis=1)\n"
   ]
  },
  {
   "cell_type": "code",
   "execution_count": 18,
   "id": "7151b71f",
   "metadata": {},
   "outputs": [],
   "source": [
    "df_reviews_sample = df_reviews_sample[df_reviews_sample[\"preprocessed_data_token_count\"] < 8192]"
   ]
  },
  {
   "cell_type": "code",
   "execution_count": 19,
   "id": "ca0cd59d",
   "metadata": {},
   "outputs": [
    {
     "data": {
      "text/html": [
       "<div>\n",
       "<style scoped>\n",
       "    .dataframe tbody tr th:only-of-type {\n",
       "        vertical-align: middle;\n",
       "    }\n",
       "\n",
       "    .dataframe tbody tr th {\n",
       "        vertical-align: top;\n",
       "    }\n",
       "\n",
       "    .dataframe thead th {\n",
       "        text-align: right;\n",
       "    }\n",
       "</style>\n",
       "<table border=\"1\" class=\"dataframe\">\n",
       "  <thead>\n",
       "    <tr style=\"text-align: right;\">\n",
       "      <th></th>\n",
       "      <th>rating</th>\n",
       "      <th>title</th>\n",
       "      <th>text</th>\n",
       "      <th>images</th>\n",
       "      <th>asin</th>\n",
       "      <th>parent_asin</th>\n",
       "      <th>user_id</th>\n",
       "      <th>timestamp</th>\n",
       "      <th>helpful_vote</th>\n",
       "      <th>verified_purchase</th>\n",
       "      <th>preprocessed_data</th>\n",
       "      <th>preprocessed_data_token_count</th>\n",
       "    </tr>\n",
       "  </thead>\n",
       "  <tbody>\n",
       "    <tr>\n",
       "      <th>18</th>\n",
       "      <td>5</td>\n",
       "      <td>So comfortable you can sleep in them</td>\n",
       "      <td>So comfortable that I even sleep with them eve...</td>\n",
       "      <td>[]</td>\n",
       "      <td>B082D8VGMQ</td>\n",
       "      <td>B098K6N6TX</td>\n",
       "      <td>AFCV25KA7XSAJGTZRDML5B7UYOVQ</td>\n",
       "      <td>2020-10-04 03:27:23.549</td>\n",
       "      <td>1</td>\n",
       "      <td>True</td>\n",
       "      <td>So comfortable you can sleep in them So comfor...</td>\n",
       "      <td>36</td>\n",
       "    </tr>\n",
       "    <tr>\n",
       "      <th>40</th>\n",
       "      <td>5</td>\n",
       "      <td>Less filter choices does not always mean less ...</td>\n",
       "      <td>So I have a few ND filter sets for my mini 3 f...</td>\n",
       "      <td>[]</td>\n",
       "      <td>B0B58CW7FK</td>\n",
       "      <td>B0C5HKTYVC</td>\n",
       "      <td>AHR4BEXIRURKL3POXW5RJFJLJDQQ</td>\n",
       "      <td>2022-10-26 16:14:29.401</td>\n",
       "      <td>3</td>\n",
       "      <td>False</td>\n",
       "      <td>Less filter choices does not always mean less ...</td>\n",
       "      <td>161</td>\n",
       "    </tr>\n",
       "  </tbody>\n",
       "</table>\n",
       "</div>"
      ],
      "text/plain": [
       "    rating                                              title  \\\n",
       "18       5               So comfortable you can sleep in them   \n",
       "40       5  Less filter choices does not always mean less ...   \n",
       "\n",
       "                                                 text images        asin  \\\n",
       "18  So comfortable that I even sleep with them eve...     []  B082D8VGMQ   \n",
       "40  So I have a few ND filter sets for my mini 3 f...     []  B0B58CW7FK   \n",
       "\n",
       "   parent_asin                       user_id               timestamp  \\\n",
       "18  B098K6N6TX  AFCV25KA7XSAJGTZRDML5B7UYOVQ 2020-10-04 03:27:23.549   \n",
       "40  B0C5HKTYVC  AHR4BEXIRURKL3POXW5RJFJLJDQQ 2022-10-26 16:14:29.401   \n",
       "\n",
       "    helpful_vote  verified_purchase  \\\n",
       "18             1               True   \n",
       "40             3              False   \n",
       "\n",
       "                                    preprocessed_data  \\\n",
       "18  So comfortable you can sleep in them So comfor...   \n",
       "40  Less filter choices does not always mean less ...   \n",
       "\n",
       "    preprocessed_data_token_count  \n",
       "18                             36  \n",
       "40                            161  "
      ]
     },
     "execution_count": 19,
     "metadata": {},
     "output_type": "execute_result"
    }
   ],
   "source": [
    "df_reviews_sample.head(2)"
   ]
  },
  {
   "cell_type": "markdown",
   "id": "ac472c92",
   "metadata": {},
   "source": [
    "### Create a new Qdrant collection for items"
   ]
  },
  {
   "cell_type": "code",
   "execution_count": 21,
   "id": "dc8096d5",
   "metadata": {},
   "outputs": [
    {
     "data": {
      "text/plain": [
       "True"
      ]
     },
     "execution_count": 21,
     "metadata": {},
     "output_type": "execute_result"
    }
   ],
   "source": [
    "qdrant_client = QdrantClient(url=\"http://localhost:6333\")\n",
    "\n",
    "qdrant_client.create_collection(\n",
    "    collection_name=\"Amazon-items-collection-02-items\",\n",
    "    vectors_config=VectorParams(size=1536, distance=Distance.COSINE)\n",
    ")"
   ]
  },
  {
   "cell_type": "code",
   "execution_count": 22,
   "id": "75d09f12",
   "metadata": {},
   "outputs": [
    {
     "data": {
      "text/plain": [
       "UpdateResult(operation_id=1, status=<UpdateStatus.COMPLETED: 'completed'>)"
      ]
     },
     "execution_count": 22,
     "metadata": {},
     "output_type": "execute_result"
    }
   ],
   "source": [
    "qdrant_client.create_payload_index(\n",
    "    collection_name=\"Amazon-items-collection-02-items\",\n",
    "    field_name=\"text\",\n",
    "    field_schema=PayloadSchemaType.TEXT\n",
    ")"
   ]
  },
  {
   "cell_type": "code",
   "execution_count": 23,
   "id": "b7fe3090",
   "metadata": {},
   "outputs": [
    {
     "data": {
      "text/plain": [
       "UpdateResult(operation_id=3, status=<UpdateStatus.COMPLETED: 'completed'>)"
      ]
     },
     "execution_count": 23,
     "metadata": {},
     "output_type": "execute_result"
    }
   ],
   "source": [
    "qdrant_client.create_payload_index(\n",
    "    collection_name=\"Amazon-items-collection-02-items\",\n",
    "    field_name=\"parent_asin\",\n",
    "    field_schema=PayloadSchemaType.KEYWORD\n",
    ")"
   ]
  },
  {
   "cell_type": "markdown",
   "id": "788eceff",
   "metadata": {},
   "source": [
    "### Create a new Qdrant collection for reviews"
   ]
  },
  {
   "cell_type": "code",
   "execution_count": 24,
   "id": "eb6c09e5",
   "metadata": {},
   "outputs": [
    {
     "data": {
      "text/plain": [
       "True"
      ]
     },
     "execution_count": 24,
     "metadata": {},
     "output_type": "execute_result"
    }
   ],
   "source": [
    "qdrant_client.create_collection(\n",
    "    collection_name=\"Amazon-items-collection-02-reviews\",\n",
    "    vectors_config=VectorParams(size=1536, distance=Distance.COSINE)\n",
    ")"
   ]
  },
  {
   "cell_type": "code",
   "execution_count": 25,
   "id": "9fe750de",
   "metadata": {},
   "outputs": [
    {
     "data": {
      "text/plain": [
       "UpdateResult(operation_id=1, status=<UpdateStatus.COMPLETED: 'completed'>)"
      ]
     },
     "execution_count": 25,
     "metadata": {},
     "output_type": "execute_result"
    }
   ],
   "source": [
    "qdrant_client.create_payload_index(\n",
    "    collection_name=\"Amazon-items-collection-02-reviews\",\n",
    "    field_name=\"parent_asin\",\n",
    "    field_schema=PayloadSchemaType.KEYWORD\n",
    ")"
   ]
  },
  {
   "cell_type": "markdown",
   "id": "2206ae91",
   "metadata": {},
   "source": [
    "### Embedding funtcions"
   ]
  },
  {
   "cell_type": "code",
   "execution_count": 26,
   "id": "c0e1bea1",
   "metadata": {},
   "outputs": [],
   "source": [
    "def get_embedding(text, model=\"text-embedding-3-small\"):\n",
    "    response = openai.embeddings.create(\n",
    "        input=[text],\n",
    "        model=model,\n",
    "    )\n",
    "    return response.data[0].embedding"
   ]
  },
  {
   "cell_type": "code",
   "execution_count": 27,
   "id": "2c0ba7ae",
   "metadata": {},
   "outputs": [],
   "source": [
    "def get_embeddings_batch(text_list, model=\"text-embedding-3-small\", batch_size=100):\n",
    "    \n",
    "    if len(text_list) <= batch_size:\n",
    "        response = openai.embeddings.create(input=text_list, model=model)\n",
    "        return [embedding.embedding for embedding in response.data]\n",
    "    \n",
    "    all_embeddings = []\n",
    "    counter = 1\n",
    "    for i in range(0, len(text_list), batch_size):\n",
    "        batch = text_list[i:i + batch_size]\n",
    "        response = openai.embeddings.create(input=batch, model=model)\n",
    "        all_embeddings.extend([embedding.embedding for embedding in response.data])\n",
    "        print(f\"Processed {counter * batch_size} of {len(text_list)}\")\n",
    "        counter += 1\n",
    "        \n",
    "    return all_embeddings"
   ]
  },
  {
   "cell_type": "markdown",
   "id": "b9158f66",
   "metadata": {},
   "source": [
    "### Embed the text data and add additional fields to the payload of each vector (items)"
   ]
  },
  {
   "cell_type": "code",
   "execution_count": 28,
   "id": "4db86757",
   "metadata": {},
   "outputs": [],
   "source": [
    "data_to_embed_items = df_items_sample[[\"preprocessed_data\", \"first_large_image\", \"rating_number\", \"price\", \"average_rating\", \"parent_asin\"]].to_dict(orient=\"records\")\n"
   ]
  },
  {
   "cell_type": "code",
   "execution_count": 29,
   "id": "d46f1c89",
   "metadata": {},
   "outputs": [],
   "source": [
    "text_to_embed_items = [data[\"preprocessed_data\"] for data in data_to_embed_items]\n"
   ]
  },
  {
   "cell_type": "code",
   "execution_count": 30,
   "id": "a62bdea0",
   "metadata": {},
   "outputs": [],
   "source": [
    "embeddings_items = get_embeddings_batch(text_to_embed_items)\n"
   ]
  },
  {
   "cell_type": "code",
   "execution_count": 32,
   "id": "f6b3c8aa",
   "metadata": {},
   "outputs": [
    {
     "data": {
      "text/plain": [
       "50"
      ]
     },
     "execution_count": 32,
     "metadata": {},
     "output_type": "execute_result"
    }
   ],
   "source": [
    "len(embeddings_items)"
   ]
  },
  {
   "cell_type": "code",
   "execution_count": 33,
   "id": "87523718",
   "metadata": {},
   "outputs": [],
   "source": [
    "pointstructs = []\n",
    "i = 1\n",
    "for embedding, data in zip(embeddings_items, data_to_embed_items):\n",
    "    pointstructs.append(\n",
    "        PointStruct(\n",
    "            id=i,\n",
    "            vector=embedding,\n",
    "            payload={\n",
    "                \"text\": data[\"preprocessed_data\"],\n",
    "                \"first_large_image\": data[\"first_large_image\"],\n",
    "                \"average_rating\": data[\"average_rating\"],\n",
    "                \"rating_number\": data[\"rating_number\"],\n",
    "                \"price\": data[\"price\"],\n",
    "                \"parent_asin\": data[\"parent_asin\"],\n",
    "            }\n",
    "        )\n",
    "    )\n",
    "    i += 1"
   ]
  },
  {
   "cell_type": "code",
   "execution_count": 34,
   "id": "ffd251c6",
   "metadata": {},
   "outputs": [
    {
     "data": {
      "text/plain": [
       "UpdateResult(operation_id=4, status=<UpdateStatus.COMPLETED: 'completed'>)"
      ]
     },
     "execution_count": 34,
     "metadata": {},
     "output_type": "execute_result"
    }
   ],
   "source": [
    "qdrant_client.upsert(\n",
    "    collection_name=\"Amazon-items-collection-02-items\",\n",
    "    wait=True,\n",
    "    points=pointstructs\n",
    ")"
   ]
  },
  {
   "cell_type": "markdown",
   "id": "93571d32",
   "metadata": {},
   "source": [
    "### Embed the text data and add additional fields to the payload of each vector (reviews)\n"
   ]
  },
  {
   "cell_type": "code",
   "execution_count": 35,
   "id": "ee13edea",
   "metadata": {},
   "outputs": [],
   "source": [
    "data_to_embed_reviews = df_reviews_sample[[\"preprocessed_data\", \"parent_asin\"]].to_dict(orient=\"records\")\n"
   ]
  },
  {
   "cell_type": "code",
   "execution_count": 36,
   "id": "24584486",
   "metadata": {},
   "outputs": [],
   "source": [
    "text_to_embed_reviews = [data[\"preprocessed_data\"] for data in data_to_embed_reviews]\n"
   ]
  },
  {
   "cell_type": "code",
   "execution_count": 37,
   "id": "7b23326a",
   "metadata": {},
   "outputs": [
    {
     "name": "stdout",
     "output_type": "stream",
     "text": [
      "Processed 100 of 6038\n",
      "Processed 200 of 6038\n",
      "Processed 300 of 6038\n",
      "Processed 400 of 6038\n",
      "Processed 500 of 6038\n",
      "Processed 600 of 6038\n",
      "Processed 700 of 6038\n",
      "Processed 800 of 6038\n",
      "Processed 900 of 6038\n",
      "Processed 1000 of 6038\n",
      "Processed 1100 of 6038\n",
      "Processed 1200 of 6038\n",
      "Processed 1300 of 6038\n",
      "Processed 1400 of 6038\n",
      "Processed 1500 of 6038\n",
      "Processed 1600 of 6038\n",
      "Processed 1700 of 6038\n",
      "Processed 1800 of 6038\n",
      "Processed 1900 of 6038\n",
      "Processed 2000 of 6038\n",
      "Processed 2100 of 6038\n",
      "Processed 2200 of 6038\n",
      "Processed 2300 of 6038\n",
      "Processed 2400 of 6038\n",
      "Processed 2500 of 6038\n",
      "Processed 2600 of 6038\n",
      "Processed 2700 of 6038\n",
      "Processed 2800 of 6038\n",
      "Processed 2900 of 6038\n",
      "Processed 3000 of 6038\n",
      "Processed 3100 of 6038\n",
      "Processed 3200 of 6038\n",
      "Processed 3300 of 6038\n",
      "Processed 3400 of 6038\n",
      "Processed 3500 of 6038\n",
      "Processed 3600 of 6038\n",
      "Processed 3700 of 6038\n",
      "Processed 3800 of 6038\n",
      "Processed 3900 of 6038\n",
      "Processed 4000 of 6038\n",
      "Processed 4100 of 6038\n",
      "Processed 4200 of 6038\n",
      "Processed 4300 of 6038\n",
      "Processed 4400 of 6038\n",
      "Processed 4500 of 6038\n",
      "Processed 4600 of 6038\n",
      "Processed 4700 of 6038\n",
      "Processed 4800 of 6038\n",
      "Processed 4900 of 6038\n",
      "Processed 5000 of 6038\n",
      "Processed 5100 of 6038\n",
      "Processed 5200 of 6038\n",
      "Processed 5300 of 6038\n",
      "Processed 5400 of 6038\n",
      "Processed 5500 of 6038\n",
      "Processed 5600 of 6038\n",
      "Processed 5700 of 6038\n",
      "Processed 5800 of 6038\n",
      "Processed 5900 of 6038\n",
      "Processed 6000 of 6038\n",
      "Processed 6100 of 6038\n"
     ]
    }
   ],
   "source": [
    "embeddings_reviews = get_embeddings_batch(text_to_embed_reviews)\n"
   ]
  },
  {
   "cell_type": "code",
   "execution_count": 38,
   "id": "a6b13192",
   "metadata": {},
   "outputs": [
    {
     "data": {
      "text/plain": [
       "6038"
      ]
     },
     "execution_count": 38,
     "metadata": {},
     "output_type": "execute_result"
    }
   ],
   "source": [
    "len(embeddings_reviews)"
   ]
  },
  {
   "cell_type": "code",
   "execution_count": 39,
   "id": "c07c5cd9",
   "metadata": {},
   "outputs": [],
   "source": [
    "pointstructs = []\n",
    "i = 1\n",
    "for embedding, data in zip(embeddings_reviews, data_to_embed_reviews):\n",
    "    pointstructs.append(\n",
    "        PointStruct(\n",
    "            id=i,\n",
    "            vector=embedding,\n",
    "            payload={\n",
    "                \"text\": data[\"preprocessed_data\"],\n",
    "                \"parent_asin\": data[\"parent_asin\"],\n",
    "            }\n",
    "        )\n",
    "    )\n",
    "    i += 1"
   ]
  },
  {
   "cell_type": "code",
   "execution_count": 40,
   "id": "a36999f3",
   "metadata": {},
   "outputs": [
    {
     "name": "stdout",
     "output_type": "stream",
     "text": [
      "Processed 100 of 6038\n",
      "Processed 200 of 6038\n",
      "Processed 300 of 6038\n",
      "Processed 400 of 6038\n",
      "Processed 500 of 6038\n",
      "Processed 600 of 6038\n",
      "Processed 700 of 6038\n",
      "Processed 800 of 6038\n",
      "Processed 900 of 6038\n",
      "Processed 1000 of 6038\n",
      "Processed 1100 of 6038\n",
      "Processed 1200 of 6038\n",
      "Processed 1300 of 6038\n",
      "Processed 1400 of 6038\n",
      "Processed 1500 of 6038\n",
      "Processed 1600 of 6038\n",
      "Processed 1700 of 6038\n",
      "Processed 1800 of 6038\n",
      "Processed 1900 of 6038\n",
      "Processed 2000 of 6038\n",
      "Processed 2100 of 6038\n",
      "Processed 2200 of 6038\n",
      "Processed 2300 of 6038\n",
      "Processed 2400 of 6038\n",
      "Processed 2500 of 6038\n",
      "Processed 2600 of 6038\n",
      "Processed 2700 of 6038\n",
      "Processed 2800 of 6038\n",
      "Processed 2900 of 6038\n",
      "Processed 3000 of 6038\n",
      "Processed 3100 of 6038\n",
      "Processed 3200 of 6038\n",
      "Processed 3300 of 6038\n",
      "Processed 3400 of 6038\n",
      "Processed 3500 of 6038\n",
      "Processed 3600 of 6038\n",
      "Processed 3700 of 6038\n",
      "Processed 3800 of 6038\n",
      "Processed 3900 of 6038\n",
      "Processed 4000 of 6038\n",
      "Processed 4100 of 6038\n",
      "Processed 4200 of 6038\n",
      "Processed 4300 of 6038\n",
      "Processed 4400 of 6038\n",
      "Processed 4500 of 6038\n",
      "Processed 4600 of 6038\n",
      "Processed 4700 of 6038\n",
      "Processed 4800 of 6038\n",
      "Processed 4900 of 6038\n",
      "Processed 5000 of 6038\n",
      "Processed 5100 of 6038\n",
      "Processed 5200 of 6038\n",
      "Processed 5300 of 6038\n",
      "Processed 5400 of 6038\n",
      "Processed 5500 of 6038\n",
      "Processed 5600 of 6038\n",
      "Processed 5700 of 6038\n",
      "Processed 5800 of 6038\n",
      "Processed 5900 of 6038\n",
      "Processed 6000 of 6038\n",
      "Processed 6100 of 6038\n"
     ]
    }
   ],
   "source": [
    "batch_size_qdrant = 100\n",
    "counter = 1\n",
    "for i in range(0, len(pointstructs), batch_size_qdrant):\n",
    "    batch = pointstructs[i:i + batch_size_qdrant]\n",
    "    qdrant_client.upsert(\n",
    "        collection_name=\"Amazon-items-collection-02-reviews\",\n",
    "        wait=True,\n",
    "        points=batch\n",
    "    )\n",
    "    print(f\"Processed {counter * batch_size_qdrant} of {len(pointstructs)}\")\n",
    "    counter += 1"
   ]
  },
  {
   "cell_type": "markdown",
   "id": "9083fbc2",
   "metadata": {},
   "source": [
    "### Perform hybrid search and perform rrf rank fusion on the retrieved results\n"
   ]
  },
  {
   "cell_type": "code",
   "execution_count": 41,
   "id": "f81b1b92",
   "metadata": {},
   "outputs": [],
   "source": [
    "from qdrant_client.models import Prefetch, Filter, FieldCondition, MatchText, FusionQuery\n",
    "\n",
    "def retrieve_data(query, k=5):\n",
    "\n",
    "    query_embedding = get_embedding(query)\n",
    "\n",
    "    results = qdrant_client.query_points(\n",
    "        collection_name=\"Amazon-items-collection-02-items\",\n",
    "        prefetch=[\n",
    "            Prefetch(\n",
    "                query=query_embedding,\n",
    "                limit=20\n",
    "            ),\n",
    "            Prefetch(\n",
    "                filter=Filter(\n",
    "                    must=[\n",
    "                        FieldCondition(\n",
    "                            key=\"text\",\n",
    "                            match=MatchText(text=query)\n",
    "                        )\n",
    "                    ]\n",
    "                ),\n",
    "                limit=20\n",
    "            )\n",
    "        ],\n",
    "        query=FusionQuery(fusion=\"rrf\"),\n",
    "        limit=k\n",
    "    )\n",
    "\n",
    "    return results"
   ]
  },
  {
   "cell_type": "code",
   "execution_count": 42,
   "id": "b893f3e8",
   "metadata": {},
   "outputs": [],
   "source": [
    "result = retrieve_data(\"earphones\")\n"
   ]
  },
  {
   "cell_type": "code",
   "execution_count": 43,
   "id": "e33fcf86",
   "metadata": {},
   "outputs": [
    {
     "data": {
      "text/plain": [
       "[ScoredPoint(id=3, version=4, score=1.0, payload={'text': 'Active Noise Cancelling Wireless Earbuds, Bluetooth in-Ear Headphones Built-in 4 Mic ENC Call, Deep Bass Ear Buds,IPX6 Waterproof Stereo Earphones for iPhone,Samsung,Laptop (Blue) ♪【ANC Noise Cancelling&Game Mode】: These premium noise-canceling earbuds adopts professional audio active noise canceling technology, and the binaural microphone blocks environmental noise and enhances the voice experience. M48 wireless earbuds are built to provide the exceptional mobile gaming audio experience with an ultra-low 45ms latency.Taps 5 times to enter game mode,through quick sound effect and ideal gaming audio you never miss any game sound effects. ♪【HiFi Stereo Sound & Superior Clear Call 】: Heaphones equipped with a high-sensitivity diaphragm and dual 13mm drivers to restore audio authenticity and voice dynamics, crystal clarity and deep resonance bass characteristics enable you to enjoy immersive sound quality. Call noise canceling brings you crystal clear calls, even in a noisy environment,true wireless in-ear earbuds can achieve a perfect call experience and stereo sound. ♪【LED Light Display & USB-C Fast Charging】: Dual digital LED power display outside of the case is to show the power level for the charging case and to remind you to charge in time by USB-C charge quickly. Put wireless earphones back in the charging case, and the display will flash that meaning earbuds are being charged. 350mAH battery capacity charging case can provide 4 times full charging for two ear buds, each earphone can last for 4H, you can use it for a day without worry. ♪【Upgrade Bluetooth 5.3 & Auto Pairing & Reminder】: Adopting the latest Bluetooth technology 5.3, True wireless earbuds Bluetooth 5.3 have a faster transmission rate, lower latency, providing a fast and stable connection and signal transmission (10 meters barrier-free). Due to the replacement of old and new packaging, you may receive the package of Bluetooth 5.1, but the product is the latest version of Bluetooth 5.3, thanks for your understand. ♪【Touch Control & Transparent Mode】: Easy touch control brings you a convenient operation experience when answering calls, skipping songs, and selecting different listening modes by wireless earbuds bluetooth. With the Transprency mode, you can hear what you want to hear, so you can listen and interact with the world around you. You can clearly hear an announcement of the airline or subway, as well as the sound around you, without taking off the headphones.', 'first_large_image': 'https://m.media-amazon.com/images/I/41gDQBYBnJL._AC_.jpg', 'average_rating': 3.9, 'rating_number': 147, 'price': None, 'parent_asin': 'B09NLTDHQ6'}, vector=None, shard_key=None, order_value=None),\n",
       " ScoredPoint(id=12, version=4, score=0.5833334, payload={'text': \"Hearprotek Sleep Earbuds Lightweight Soft Noise Reduction Earbuds Wired with Mic and Volume Control, 3.5mm Tangle Free Sleep Headphones for Side Sleepers, Snoring, Air Travel, Meditation, Relaxation [Super Comfy &Light Weight] Earphones are made from flexible silicone, which enables them to easily conform to your ear canal painless without bothering your ear. Super lightweight, only weighs 0.36oz (10.2g/pair), which are almost hardly feel them when sleeping，the best companion for side sleepers. [Double Layers Design & Noise Reduction] Sleeping earphones are adapted with double layers design to provide better noise reduction. You don't need have to sleep on your back, side sleeper also could get a good night. Earphone keeps the traffic noise, neighbour noise, the ticking of clock, office noise out of your ear, and the music will soothe the stress of all day. [Durable & Tangle Free] The earbuds are built in bulletproof tough wire which are durable and flexible. You don't have to worry about damage from your sleeping posture or entanglement. The 125CM extra long thin wire won’t restrict your movement as well. [Wide Compatibility] With 3.5mm jack plug, fits any standard audio device, you can easily fall asleep to your favorite music, audiobooks, podcasts and soothing sounds. [Multiple Button Control] Features with 3-button control, you can switch music and answer/reject phone call on your fingertip easily. You can soothe your tired mind and enjoy a restful sleep by listening to white noise or calming music.\", 'first_large_image': 'https://m.media-amazon.com/images/I/31AeW1yns+L._AC_.jpg', 'average_rating': 4.3, 'rating_number': 2808, 'price': 10.99, 'parent_asin': 'B098K6N6TX'}, vector=None, shard_key=None, order_value=None),\n",
       " ScoredPoint(id=23, version=4, score=0.5833334, payload={'text': 'Apple Earbuds Headphone with Lightning Connector [Apple MFi Certified] Wired Earphones with Built-in Microphone and Volume Control for iPhone 14/13/12/11/SE/X/XR/XS/8/7,Support All iOS 🎵【Widely Compatibility】These Apple Earbuds are compatible with all lightning connector devices and widely compatible with iPhone 14/13/12/11/X/XR/8/7, iPad, and Pod, ensuring that you can use them with your favorite device. 🎵【Remote and Microphone】Use the remote to adjust the volume, control the playback, and answer or end calls with a pinch of the cord, while the built-in microphone allows you to call hands-free, making them easy to use. 🎵【High Quality Sound】The earbuds use 100% copper core to provide lossless digital sound quality, supporting 48KHz and 24-bit audio output for better sound transmission stability and fidelity, while the ergonomic noise reduction in-ear headphones minimize the noise in the surrounding environment and bring you a better music experience. 🎵【Wired Bluetooth Headset】 As this earphone is a Bluet00th connectivity version. You need to turn on the Bluet00th in your Phone or Pad, then plug the earphone in to connect them. When next time you use the earphone again, it will automatically connect to your device in 2-8 seconds. ATTENTION: This is very important, it is the first step that must done. 🎵【Risk-free Guarantee】With our 12 months quality assurance service and 7*24 online support, we are committed to providing satisfactory service to all our customers, ensuring that any questions or concerns are quickly resolved.', 'first_large_image': 'https://m.media-amazon.com/images/I/31NcKi417vL._AC_.jpg', 'average_rating': 4.6, 'rating_number': 2154, 'price': 8.99, 'parent_asin': 'B0C6KBJMHP'}, vector=None, shard_key=None, order_value=None),\n",
       " ScoredPoint(id=48, version=4, score=0.4, payload={'text': 'Tiksounds Wireless Earbuds, Bluetooth 5.3 Headphones, Bluetooth Earbuds with LED Display, 60 Hrs of Playtime, IPX7 Waterproof, Stereo Sound, Over Ear Earphones with Mic for Sports Running Workout Gym LED Digital Power Display: Wireless earbuds with LED display to clearly show the battery level of the charging case and earbuds. 60 Hours of Playback: Up to 10 hours of listening time on a single earbuds, over 60 hours with charging case. Bluetoth 5.3 and Stereo Sound Quality: Bluetooth earbuds with Bluetooth 5.3 chip technology and 10mm drivers let you experience crystal clear HD stereo sound and powerful bass. Designed for Sports: The adjustable, firm-fitting ear hooks keep the earphones stable. Keeps you comfortable during a hard workout or run. IPX7 Waterproof: IPX7 rated waterproof earbuds with nano-coating technology to prevent sweat and rain from damaging the components of the wireless earbuds.', 'first_large_image': 'https://m.media-amazon.com/images/I/41ohzPgqMnL._AC_.jpg', 'average_rating': 4.4, 'rating_number': 576, 'price': None, 'parent_asin': 'B0B1DM4Y5C'}, vector=None, shard_key=None, order_value=None),\n",
       " ScoredPoint(id=40, version=4, score=0.16666667, payload={'text': '[Apple MFi Certified] Lightning to 3.5 mm Headphone Jack Adapter for iPhone, 2 in 1 Lightning to 3.5mm AUX Audio Charger Splitter Compatible with iPhone 13 12 11 XS XR X 8 7 Audio Earphone Adaptor ✔Apple MFi Certified - The iPhone Headphones adapter has passed Apple MFi certification, which means this iPhone aux adapter guaranteed high quality and compatibility, No Error Message Pop-up. Perfect match all 3.5mm Headphone/Earphone. ✔Widely Compatible - This lightning to 3.5mm headphones jack adapter is compatible with iPhone 13/13 Mini/13 Pro/13 Pro Max/12/12 Mini/12 Pro/12 Pro Max/SE 2020/11/11 Pro/XS/XR/X/8/8 Plus/7/7 Plus, iPad, iPod. Support iOS 15 and before, you will be able to keep playing music using your original 3.5mm headphones/aux cable in the car. ✔Multi Function - The 2 in 1 Lightning to 3.5mm Headphone Audio & Charger adapter cable supports listen to music and charge your phone at the same time. Support Charging, Headset Control, Data Transfer, Microphone and Remote. ✔Plug and Play - No extra software, 2 in 1 iPhone Charger and headphones adapter supports up to 24bit 48kHz lossless output, ensuring sound transmission stability and fidelity.Allows you to enjoy perfect music while charging, without worrying about running out of battery.Particularly Designed for iPhone Lovers. ✔Quality Service - You will get 1 * iPhone Headphone Adapter, we also provide a 12-Month Worry-Free Warranty and Lifetime Technical Support. Any issues with this iPhone dongle adapter, contact us for fast support.', 'first_large_image': 'https://m.media-amazon.com/images/I/41TyJiMnk-L._AC_.jpg', 'average_rating': 3.0, 'rating_number': 296, 'price': 8.99, 'parent_asin': 'B09Q5W9HPQ'}, vector=None, shard_key=None, order_value=None)]"
      ]
     },
     "execution_count": 43,
     "metadata": {},
     "output_type": "execute_result"
    }
   ],
   "source": [
    "result.points\n"
   ]
  },
  {
   "cell_type": "code",
   "execution_count": 44,
   "id": "902beb29",
   "metadata": {},
   "outputs": [],
   "source": [
    "parent_asins = []\n",
    "for data in result.points:\n",
    "    parent_asins.append(data.payload[\"parent_asin\"])"
   ]
  },
  {
   "cell_type": "code",
   "execution_count": 45,
   "id": "0a4923c7",
   "metadata": {},
   "outputs": [
    {
     "data": {
      "text/plain": [
       "['B09NLTDHQ6', 'B098K6N6TX', 'B0C6KBJMHP', 'B0B1DM4Y5C', 'B09Q5W9HPQ']"
      ]
     },
     "execution_count": 45,
     "metadata": {},
     "output_type": "execute_result"
    }
   ],
   "source": [
    "parent_asins\n"
   ]
  },
  {
   "cell_type": "markdown",
   "id": "673da84b",
   "metadata": {},
   "source": [
    "### A function to run search agains reviews on a prefiltered set of product IDs\n"
   ]
  },
  {
   "cell_type": "code",
   "execution_count": 46,
   "id": "ef7039e2",
   "metadata": {},
   "outputs": [],
   "source": [
    "def retrieve_prefiltered_reviews_data(query, parent_asins, k=5):\n",
    "\n",
    "    query_embedding = get_embedding(query)\n",
    "\n",
    "    results = qdrant_client.query_points(\n",
    "        collection_name=\"Amazon-items-collection-02-reviews\",\n",
    "        prefetch=[\n",
    "            Prefetch(\n",
    "                query=query_embedding,\n",
    "                filter=Filter(\n",
    "                    must=[\n",
    "                        FieldCondition(\n",
    "                            key=\"parent_asin\",\n",
    "                            match=MatchAny(\n",
    "                                any=parent_asins\n",
    "                            )\n",
    "                        )\n",
    "                    ]\n",
    "                ),\n",
    "                limit=20\n",
    "            )\n",
    "        ],\n",
    "        query=FusionQuery(fusion=\"rrf\"),\n",
    "        limit=k\n",
    "    )\n",
    "\n",
    "    return results"
   ]
  },
  {
   "cell_type": "code",
   "execution_count": 47,
   "id": "892f0751",
   "metadata": {},
   "outputs": [],
   "source": [
    "reviews = retrieve_prefiltered_reviews_data(\"bad quality\", ['B09NLTDHQ6', 'B098K6N6TX', 'B0C6KBJMHP', 'B0B1DM4Y5C', 'B09Q5W9HPQ'], k=5)\n"
   ]
  },
  {
   "cell_type": "code",
   "execution_count": 48,
   "id": "cd12c28c",
   "metadata": {},
   "outputs": [
    {
     "data": {
      "text/plain": [
       "[ScoredPoint(id=2767, version=29, score=0.5, payload={'text': 'sound quality is bad skip this one, sound is bad.', 'parent_asin': 'B09Q5W9HPQ'}, vector=None, shard_key=None, order_value=None),\n",
       " ScoredPoint(id=1040, version=12, score=0.33333334, payload={'text': 'Poor sound quality Very poor low sound-returning', 'parent_asin': 'B098K6N6TX'}, vector=None, shard_key=None, order_value=None),\n",
       " ScoredPoint(id=5668, version=58, score=0.25, payload={'text': 'Sound quality is fuzzy Didn’t like how stuff sounds on these, also the mic isn’t that good either but it works I guess..', 'parent_asin': 'B0C6KBJMHP'}, vector=None, shard_key=None, order_value=None),\n",
       " ScoredPoint(id=4745, version=49, score=0.2, payload={'text': 'Do not buy You get what you pay for. Low quality. Trouble connecting. Piece fell off after one week of use. I do not recommend.', 'parent_asin': 'B09Q5W9HPQ'}, vector=None, shard_key=None, order_value=None),\n",
       " ScoredPoint(id=5850, version=60, score=0.16666667, payload={'text': 'Not a snug fit and very poor audio quality :(', 'parent_asin': 'B098K6N6TX'}, vector=None, shard_key=None, order_value=None)]"
      ]
     },
     "execution_count": 48,
     "metadata": {},
     "output_type": "execute_result"
    }
   ],
   "source": [
    "reviews.points\n"
   ]
  },
  {
   "cell_type": "code",
   "execution_count": null,
   "id": "88601f64",
   "metadata": {},
   "outputs": [],
   "source": []
  },
  {
   "cell_type": "code",
   "execution_count": null,
   "id": "e9db5308",
   "metadata": {},
   "outputs": [],
   "source": []
  }
 ],
 "metadata": {
  "kernelspec": {
   "display_name": "01-ai-engineering-bootcamp",
   "language": "python",
   "name": "python3"
  },
  "language_info": {
   "codemirror_mode": {
    "name": "ipython",
    "version": 3
   },
   "file_extension": ".py",
   "mimetype": "text/x-python",
   "name": "python",
   "nbconvert_exporter": "python",
   "pygments_lexer": "ipython3",
   "version": "3.12.11"
  }
 },
 "nbformat": 4,
 "nbformat_minor": 5
}
