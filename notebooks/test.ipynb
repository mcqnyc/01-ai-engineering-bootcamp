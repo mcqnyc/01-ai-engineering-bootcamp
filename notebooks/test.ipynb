{
 "cells": [
  {
   "cell_type": "code",
   "execution_count": 20,
   "id": "115208b2",
   "metadata": {},
   "outputs": [
    {
     "name": "stdout",
     "output_type": "stream",
     "text": [
      "Hello, World!\n"
     ]
    }
   ],
   "source": [
    "print('Hello, World!')"
   ]
  },
  {
   "cell_type": "code",
   "execution_count": 21,
   "id": "1fef7566",
   "metadata": {},
   "outputs": [
    {
     "name": "stderr",
     "output_type": "stream",
     "text": [
      "6635.35s - pydevd: Sending message related to process being replaced timed-out after 5 seconds\n"
     ]
    },
    {
     "name": "stdout",
     "output_type": "stream",
     "text": [
      "Requirement already satisfied: openai in /Users/mcq/Development/AIML/SwirlAI/AI_bootcamp_summer_2025/.venv/lib/python3.12/site-packages (1.91.0)\n",
      "Requirement already satisfied: anyio<5,>=3.5.0 in /Users/mcq/Development/AIML/SwirlAI/AI_bootcamp_summer_2025/.venv/lib/python3.12/site-packages (from openai) (4.9.0)\n",
      "Requirement already satisfied: distro<2,>=1.7.0 in /Users/mcq/Development/AIML/SwirlAI/AI_bootcamp_summer_2025/.venv/lib/python3.12/site-packages (from openai) (1.9.0)\n",
      "Requirement already satisfied: httpx<1,>=0.23.0 in /Users/mcq/Development/AIML/SwirlAI/AI_bootcamp_summer_2025/.venv/lib/python3.12/site-packages (from openai) (0.28.1)\n",
      "Requirement already satisfied: jiter<1,>=0.4.0 in /Users/mcq/Development/AIML/SwirlAI/AI_bootcamp_summer_2025/.venv/lib/python3.12/site-packages (from openai) (0.10.0)\n",
      "Requirement already satisfied: pydantic<3,>=1.9.0 in /Users/mcq/Development/AIML/SwirlAI/AI_bootcamp_summer_2025/.venv/lib/python3.12/site-packages (from openai) (2.11.7)\n",
      "Requirement already satisfied: sniffio in /Users/mcq/Development/AIML/SwirlAI/AI_bootcamp_summer_2025/.venv/lib/python3.12/site-packages (from openai) (1.3.1)\n",
      "Requirement already satisfied: tqdm>4 in /Users/mcq/Development/AIML/SwirlAI/AI_bootcamp_summer_2025/.venv/lib/python3.12/site-packages (from openai) (4.67.1)\n",
      "Requirement already satisfied: typing-extensions<5,>=4.11 in /Users/mcq/Development/AIML/SwirlAI/AI_bootcamp_summer_2025/.venv/lib/python3.12/site-packages (from openai) (4.14.0)\n",
      "Requirement already satisfied: idna>=2.8 in /Users/mcq/Development/AIML/SwirlAI/AI_bootcamp_summer_2025/.venv/lib/python3.12/site-packages (from anyio<5,>=3.5.0->openai) (3.10)\n",
      "Requirement already satisfied: certifi in /Users/mcq/Development/AIML/SwirlAI/AI_bootcamp_summer_2025/.venv/lib/python3.12/site-packages (from httpx<1,>=0.23.0->openai) (2025.6.15)\n",
      "Requirement already satisfied: httpcore==1.* in /Users/mcq/Development/AIML/SwirlAI/AI_bootcamp_summer_2025/.venv/lib/python3.12/site-packages (from httpx<1,>=0.23.0->openai) (1.0.9)\n",
      "Requirement already satisfied: h11>=0.16 in /Users/mcq/Development/AIML/SwirlAI/AI_bootcamp_summer_2025/.venv/lib/python3.12/site-packages (from httpcore==1.*->httpx<1,>=0.23.0->openai) (0.16.0)\n",
      "Requirement already satisfied: annotated-types>=0.6.0 in /Users/mcq/Development/AIML/SwirlAI/AI_bootcamp_summer_2025/.venv/lib/python3.12/site-packages (from pydantic<3,>=1.9.0->openai) (0.7.0)\n",
      "Requirement already satisfied: pydantic-core==2.33.2 in /Users/mcq/Development/AIML/SwirlAI/AI_bootcamp_summer_2025/.venv/lib/python3.12/site-packages (from pydantic<3,>=1.9.0->openai) (2.33.2)\n",
      "Requirement already satisfied: typing-inspection>=0.4.0 in /Users/mcq/Development/AIML/SwirlAI/AI_bootcamp_summer_2025/.venv/lib/python3.12/site-packages (from pydantic<3,>=1.9.0->openai) (0.4.1)\n",
      "Note: you may need to restart the kernel to use updated packages.\n"
     ]
    }
   ],
   "source": [
    "%pip install openai"
   ]
  },
  {
   "cell_type": "code",
   "execution_count": 22,
   "id": "e7a2c6be",
   "metadata": {},
   "outputs": [],
   "source": [
    "import openai\n",
    "import os\n",
    "\n",
    "api_key = os.getenv(\"OPENAI_API_KEY\")\n",
    "if not api_key:\n",
    "    api_key = input(\"Please enter your OpenAI API key: \").strip()\n",
    "    os.environ[\"OPENAI_API_KEY\"] = api_key\n",
    "    if not api_key:\n",
    "        raise ValueError(\"API key is required.\")"
   ]
  },
  {
   "cell_type": "code",
   "execution_count": 23,
   "id": "93843318",
   "metadata": {},
   "outputs": [
    {
     "name": "stdout",
     "output_type": "stream",
     "text": [
      "Sure! Here are 10 random words:\n",
      "\n",
      "1. Serendipity\n",
      "2. Ephemeral\n",
      "3. Quixotic\n",
      "4. Luminous\n",
      "5. Labyrinth\n",
      "6. Euphoria\n",
      "7. Mellifluous\n",
      "8. Nebulous\n",
      "9. Ethereal\n",
      "10. Soliloquy\n",
      "\n",
      "Let me know if you need anything else!\n"
     ]
    }
   ],
   "source": [
    "import openai\n",
    "import os\n",
    "\n",
    "response = openai.chat.completions.create(\n",
    "    model=\"gpt-4o-mini\",\n",
    "    messages=[\n",
    "        {\"role\": \"system\", \"content\": \"You are a helpful assistant.\"},\n",
    "        {\"role\": \"user\", \"content\": \"Can you print 10 randmo words?\"},\n",
    "    ]\n",
    ")\n",
    "print(response.choices[0].message.content)\n"
   ]
  },
  {
   "cell_type": "code",
   "execution_count": 24,
   "id": "1c42870d",
   "metadata": {},
   "outputs": [],
   "source": [
    "api_key = os.getenv(\"GOOGLE_API_KEY\")\n",
    "if not api_key:\n",
    "    api_key = input(\"Please enter your Google API key: \").strip()\n",
    "    os.environ[\"GOOGLE_API_KEY\"] = api_key\n",
    "    if not api_key:\n",
    "        raise EnvironmentError(\"API key is required.\")"
   ]
  },
  {
   "cell_type": "code",
   "execution_count": 25,
   "id": "ca3f3e8b",
   "metadata": {},
   "outputs": [
    {
     "name": "stderr",
     "output_type": "stream",
     "text": [
      "6662.83s - pydevd: Sending message related to process being replaced timed-out after 5 seconds\n"
     ]
    },
    {
     "name": "stdout",
     "output_type": "stream",
     "text": [
      "Collecting google-genai\n",
      "  Downloading google_genai-1.21.1-py3-none-any.whl.metadata (37 kB)\n",
      "Requirement already satisfied: anyio<5.0.0,>=4.8.0 in /Users/mcq/Development/AIML/SwirlAI/AI_bootcamp_summer_2025/.venv/lib/python3.12/site-packages (from google-genai) (4.9.0)\n",
      "Collecting google-auth<3.0.0,>=2.14.1 (from google-genai)\n",
      "  Downloading google_auth-2.40.3-py2.py3-none-any.whl.metadata (6.2 kB)\n",
      "Requirement already satisfied: httpx<1.0.0,>=0.28.1 in /Users/mcq/Development/AIML/SwirlAI/AI_bootcamp_summer_2025/.venv/lib/python3.12/site-packages (from google-genai) (0.28.1)\n",
      "Requirement already satisfied: pydantic<3.0.0,>=2.0.0 in /Users/mcq/Development/AIML/SwirlAI/AI_bootcamp_summer_2025/.venv/lib/python3.12/site-packages (from google-genai) (2.11.7)\n",
      "Collecting requests<3.0.0,>=2.28.1 (from google-genai)\n",
      "  Downloading requests-2.32.4-py3-none-any.whl.metadata (4.9 kB)\n",
      "Collecting tenacity<9.0.0,>=8.2.3 (from google-genai)\n",
      "  Downloading tenacity-8.5.0-py3-none-any.whl.metadata (1.2 kB)\n",
      "Collecting websockets<15.1.0,>=13.0.0 (from google-genai)\n",
      "  Downloading websockets-15.0.1-cp312-cp312-macosx_10_13_x86_64.whl.metadata (6.8 kB)\n",
      "Requirement already satisfied: typing-extensions<5.0.0,>=4.11.0 in /Users/mcq/Development/AIML/SwirlAI/AI_bootcamp_summer_2025/.venv/lib/python3.12/site-packages (from google-genai) (4.14.0)\n",
      "Requirement already satisfied: idna>=2.8 in /Users/mcq/Development/AIML/SwirlAI/AI_bootcamp_summer_2025/.venv/lib/python3.12/site-packages (from anyio<5.0.0,>=4.8.0->google-genai) (3.10)\n",
      "Requirement already satisfied: sniffio>=1.1 in /Users/mcq/Development/AIML/SwirlAI/AI_bootcamp_summer_2025/.venv/lib/python3.12/site-packages (from anyio<5.0.0,>=4.8.0->google-genai) (1.3.1)\n",
      "Collecting cachetools<6.0,>=2.0.0 (from google-auth<3.0.0,>=2.14.1->google-genai)\n",
      "  Downloading cachetools-5.5.2-py3-none-any.whl.metadata (5.4 kB)\n",
      "Collecting pyasn1-modules>=0.2.1 (from google-auth<3.0.0,>=2.14.1->google-genai)\n",
      "  Downloading pyasn1_modules-0.4.2-py3-none-any.whl.metadata (3.5 kB)\n",
      "Collecting rsa<5,>=3.1.4 (from google-auth<3.0.0,>=2.14.1->google-genai)\n",
      "  Downloading rsa-4.9.1-py3-none-any.whl.metadata (5.6 kB)\n",
      "Requirement already satisfied: certifi in /Users/mcq/Development/AIML/SwirlAI/AI_bootcamp_summer_2025/.venv/lib/python3.12/site-packages (from httpx<1.0.0,>=0.28.1->google-genai) (2025.6.15)\n",
      "Requirement already satisfied: httpcore==1.* in /Users/mcq/Development/AIML/SwirlAI/AI_bootcamp_summer_2025/.venv/lib/python3.12/site-packages (from httpx<1.0.0,>=0.28.1->google-genai) (1.0.9)\n",
      "Requirement already satisfied: h11>=0.16 in /Users/mcq/Development/AIML/SwirlAI/AI_bootcamp_summer_2025/.venv/lib/python3.12/site-packages (from httpcore==1.*->httpx<1.0.0,>=0.28.1->google-genai) (0.16.0)\n",
      "Requirement already satisfied: annotated-types>=0.6.0 in /Users/mcq/Development/AIML/SwirlAI/AI_bootcamp_summer_2025/.venv/lib/python3.12/site-packages (from pydantic<3.0.0,>=2.0.0->google-genai) (0.7.0)\n",
      "Requirement already satisfied: pydantic-core==2.33.2 in /Users/mcq/Development/AIML/SwirlAI/AI_bootcamp_summer_2025/.venv/lib/python3.12/site-packages (from pydantic<3.0.0,>=2.0.0->google-genai) (2.33.2)\n",
      "Requirement already satisfied: typing-inspection>=0.4.0 in /Users/mcq/Development/AIML/SwirlAI/AI_bootcamp_summer_2025/.venv/lib/python3.12/site-packages (from pydantic<3.0.0,>=2.0.0->google-genai) (0.4.1)\n",
      "Collecting charset_normalizer<4,>=2 (from requests<3.0.0,>=2.28.1->google-genai)\n",
      "  Downloading charset_normalizer-3.4.2-cp312-cp312-macosx_10_13_universal2.whl.metadata (35 kB)\n",
      "Collecting urllib3<3,>=1.21.1 (from requests<3.0.0,>=2.28.1->google-genai)\n",
      "  Downloading urllib3-2.5.0-py3-none-any.whl.metadata (6.5 kB)\n",
      "Collecting pyasn1>=0.1.3 (from rsa<5,>=3.1.4->google-auth<3.0.0,>=2.14.1->google-genai)\n",
      "  Downloading pyasn1-0.6.1-py3-none-any.whl.metadata (8.4 kB)\n",
      "Downloading google_genai-1.21.1-py3-none-any.whl (206 kB)\n",
      "Downloading google_auth-2.40.3-py2.py3-none-any.whl (216 kB)\n",
      "Downloading cachetools-5.5.2-py3-none-any.whl (10 kB)\n",
      "Downloading requests-2.32.4-py3-none-any.whl (64 kB)\n",
      "Downloading charset_normalizer-3.4.2-cp312-cp312-macosx_10_13_universal2.whl (199 kB)\n",
      "Downloading rsa-4.9.1-py3-none-any.whl (34 kB)\n",
      "Downloading tenacity-8.5.0-py3-none-any.whl (28 kB)\n",
      "Downloading urllib3-2.5.0-py3-none-any.whl (129 kB)\n",
      "Downloading websockets-15.0.1-cp312-cp312-macosx_10_13_x86_64.whl (173 kB)\n",
      "Downloading pyasn1-0.6.1-py3-none-any.whl (83 kB)\n",
      "Downloading pyasn1_modules-0.4.2-py3-none-any.whl (181 kB)\n",
      "Installing collected packages: websockets, urllib3, tenacity, pyasn1, charset_normalizer, cachetools, rsa, requests, pyasn1-modules, google-auth, google-genai\n",
      "\u001b[2K   \u001b[38;2;114;156;31m━━━━━━━━━━━━━━━━━━━━━━━━━━━━━━━━━━━━━━━━\u001b[0m \u001b[32m11/11\u001b[0m [google-genai] \u001b[32m10/11\u001b[0m [google-genai]-auth]\n",
      "\u001b[1A\u001b[2KSuccessfully installed cachetools-5.5.2 charset_normalizer-3.4.2 google-auth-2.40.3 google-genai-1.21.1 pyasn1-0.6.1 pyasn1-modules-0.4.2 requests-2.32.4 rsa-4.9.1 tenacity-8.5.0 urllib3-2.5.0 websockets-15.0.1\n",
      "Note: you may need to restart the kernel to use updated packages.\n"
     ]
    }
   ],
   "source": [
    "%pip install google-genai"
   ]
  },
  {
   "cell_type": "code",
   "execution_count": null,
   "id": "3cb56cfb",
   "metadata": {},
   "outputs": [
    {
     "name": "stdout",
     "output_type": "stream",
     "text": [
      "Okay, here are 15 random words:\n",
      "\n",
      "1.  Serendipity\n",
      "2.  Quixotic\n",
      "3.  Ephemeral\n",
      "4.  Nebula\n",
      "5.  Labyrinth\n",
      "6.  Ubiquitous\n",
      "7.  Resplendent\n",
      "8.  Zephyr\n",
      "9.  Mellifluous\n",
      "10. Petrichor\n",
      "11. Luminescence\n",
      "12. Ethereal\n",
      "13. Cacophony\n",
      "14. Enigmatic\n",
      "15. Pulchritude\n",
      "\n"
     ]
    }
   ],
   "source": [
    "from google import genai\n",
    "\n",
    "gemini_client = genai.Client(api_key=os.getenv(\"GOOGLE_API_KEY\"))\n",
    "\n",
    "response = gemini_client.models.generate_content(\n",
    "    model=\"gemini-2.0-flash\",\n",
    "    contents=[\"You are a helpful assistant.\", \"Can you print 15 random words?\"],\n",
    ")\n",
    "print(response.text)"
   ]
  },
  {
   "cell_type": "code",
   "execution_count": 29,
   "id": "b5c5a655",
   "metadata": {},
   "outputs": [],
   "source": [
    "api_key = os.getenv(\"GROQ_API_KEY\")\n",
    "if not api_key:\n",
    "    api_key = input(\"Please enter your Groq API key: \").strip()\n",
    "    os.environ[\"GROQ_API_KEY\"] = api_key\n",
    "    if not api_key:\n",
    "        raise EnvironmentError(\"API key is required.\")"
   ]
  },
  {
   "cell_type": "code",
   "execution_count": 31,
   "id": "0a9edaef",
   "metadata": {},
   "outputs": [
    {
     "name": "stderr",
     "output_type": "stream",
     "text": [
      "7542.80s - pydevd: Sending message related to process being replaced timed-out after 5 seconds\n"
     ]
    },
    {
     "name": "stdout",
     "output_type": "stream",
     "text": [
      "Collecting groq\n",
      "  Downloading groq-0.28.0-py3-none-any.whl.metadata (15 kB)\n",
      "Requirement already satisfied: anyio<5,>=3.5.0 in /Users/mcq/Development/AIML/SwirlAI/AI_bootcamp_summer_2025/.venv/lib/python3.12/site-packages (from groq) (4.9.0)\n",
      "Requirement already satisfied: distro<2,>=1.7.0 in /Users/mcq/Development/AIML/SwirlAI/AI_bootcamp_summer_2025/.venv/lib/python3.12/site-packages (from groq) (1.9.0)\n",
      "Requirement already satisfied: httpx<1,>=0.23.0 in /Users/mcq/Development/AIML/SwirlAI/AI_bootcamp_summer_2025/.venv/lib/python3.12/site-packages (from groq) (0.28.1)\n",
      "Requirement already satisfied: pydantic<3,>=1.9.0 in /Users/mcq/Development/AIML/SwirlAI/AI_bootcamp_summer_2025/.venv/lib/python3.12/site-packages (from groq) (2.11.7)\n",
      "Requirement already satisfied: sniffio in /Users/mcq/Development/AIML/SwirlAI/AI_bootcamp_summer_2025/.venv/lib/python3.12/site-packages (from groq) (1.3.1)\n",
      "Requirement already satisfied: typing-extensions<5,>=4.10 in /Users/mcq/Development/AIML/SwirlAI/AI_bootcamp_summer_2025/.venv/lib/python3.12/site-packages (from groq) (4.14.0)\n",
      "Requirement already satisfied: idna>=2.8 in /Users/mcq/Development/AIML/SwirlAI/AI_bootcamp_summer_2025/.venv/lib/python3.12/site-packages (from anyio<5,>=3.5.0->groq) (3.10)\n",
      "Requirement already satisfied: certifi in /Users/mcq/Development/AIML/SwirlAI/AI_bootcamp_summer_2025/.venv/lib/python3.12/site-packages (from httpx<1,>=0.23.0->groq) (2025.6.15)\n",
      "Requirement already satisfied: httpcore==1.* in /Users/mcq/Development/AIML/SwirlAI/AI_bootcamp_summer_2025/.venv/lib/python3.12/site-packages (from httpx<1,>=0.23.0->groq) (1.0.9)\n",
      "Requirement already satisfied: h11>=0.16 in /Users/mcq/Development/AIML/SwirlAI/AI_bootcamp_summer_2025/.venv/lib/python3.12/site-packages (from httpcore==1.*->httpx<1,>=0.23.0->groq) (0.16.0)\n",
      "Requirement already satisfied: annotated-types>=0.6.0 in /Users/mcq/Development/AIML/SwirlAI/AI_bootcamp_summer_2025/.venv/lib/python3.12/site-packages (from pydantic<3,>=1.9.0->groq) (0.7.0)\n",
      "Requirement already satisfied: pydantic-core==2.33.2 in /Users/mcq/Development/AIML/SwirlAI/AI_bootcamp_summer_2025/.venv/lib/python3.12/site-packages (from pydantic<3,>=1.9.0->groq) (2.33.2)\n",
      "Requirement already satisfied: typing-inspection>=0.4.0 in /Users/mcq/Development/AIML/SwirlAI/AI_bootcamp_summer_2025/.venv/lib/python3.12/site-packages (from pydantic<3,>=1.9.0->groq) (0.4.1)\n",
      "Downloading groq-0.28.0-py3-none-any.whl (130 kB)\n",
      "Installing collected packages: groq\n",
      "Successfully installed groq-0.28.0\n",
      "Note: you may need to restart the kernel to use updated packages.\n"
     ]
    }
   ],
   "source": [
    "%pip install groq"
   ]
  },
  {
   "cell_type": "code",
   "execution_count": 32,
   "id": "b378680a",
   "metadata": {},
   "outputs": [
    {
     "name": "stdout",
     "output_type": "stream",
     "text": [
      "Here are 20 random words:\n",
      "\n",
      "1. Space\n",
      "2. Helicopter\n",
      "3. Caramel\n",
      "4. Banana\n",
      "5. Bicycle\n",
      "6. Cloudy\n",
      "7. Perfume\n",
      "8. Guitar\n",
      "9. Snowflake\n",
      "10. Lighthouse\n",
      "11. Pineapple\n",
      "12. Starfish\n",
      "13. Football\n",
      "14. Violin\n",
      "15. Fountain\n",
      "16. Butterfly\n",
      "17. Parakeet\n",
      "18. Submarine\n",
      "19. Harmonica\n",
      "20. Waterfall\n"
     ]
    }
   ],
   "source": [
    "import os\n",
    "\n",
    "from groq import Groq\n",
    "\n",
    "client = Groq(\n",
    "    api_key=os.environ.get(\"GROQ_API_KEY\"),\n",
    ")\n",
    "\n",
    "chat_completion = client.chat.completions.create(\n",
    "    messages=[\n",
    "        {\"role\": \"system\", \"content\": \"You are a helpful assistant.\"},\n",
    "        {\"role\": \"user\", \"content\": \"Can you print 20 randmo words?\"},\n",
    "    ],\n",
    "    model=\"llama-3.3-70b-versatile\",\n",
    ")\n",
    "\n",
    "print(chat_completion.choices[0].message.content)"
   ]
  }
 ],
 "metadata": {
  "kernelspec": {
   "display_name": ".venv",
   "language": "python",
   "name": "python3"
  },
  "language_info": {
   "codemirror_mode": {
    "name": "ipython",
    "version": 3
   },
   "file_extension": ".py",
   "mimetype": "text/x-python",
   "name": "python",
   "nbconvert_exporter": "python",
   "pygments_lexer": "ipython3",
   "version": "3.12.11"
  }
 },
 "nbformat": 4,
 "nbformat_minor": 5
}
