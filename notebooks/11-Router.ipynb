{
 "cells": [
  {
   "cell_type": "code",
   "execution_count": 1,
   "id": "55c65ebe",
   "metadata": {},
   "outputs": [],
   "source": [
    "from fastmcp import Client\n",
    "\n",
    "from pydantic import BaseModel, Field\n",
    "\n",
    "from qdrant_client import QdrantClient\n",
    "from qdrant_client.models import Prefetch, Filter, FieldCondition, MatchText, FusionQuery\n",
    "\n",
    "from langsmith import traceable, get_current_run_tree\n",
    "\n",
    "from langgraph.graph import StateGraph, START, END\n",
    "from langgraph.prebuilt import ToolNode\n",
    "\n",
    "from langchain_core.messages import AIMessage, ToolMessage\n",
    "\n",
    "from jinja2 import Template\n",
    "from typing import Literal, Dict, Any, Annotated, List, Optional\n",
    "from IPython.display import Image, display\n",
    "from operator import add\n",
    "from openai import OpenAI\n",
    "\n",
    "import openai\n",
    "\n",
    "import random\n",
    "import ast\n",
    "import inspect\n",
    "import instructor\n",
    "import json\n"
   ]
  },
  {
   "cell_type": "code",
   "execution_count": 2,
   "id": "7d8cdd38",
   "metadata": {},
   "outputs": [],
   "source": [
    "import os\n",
    "\n",
    "api_key = os.getenv(\"OPENAI_API_KEY\")\n",
    "if not api_key:\n",
    "    api_key = input(\"Please enter your OpenAI API key: \").strip()\n",
    "    os.environ[\"OPENAI_API_KEY\"] = api_key\n",
    "    if not api_key:\n",
    "        raise ValueError(\"API key is required.\")"
   ]
  },
  {
   "cell_type": "code",
   "execution_count": 6,
   "id": "cdc0aeb6",
   "metadata": {},
   "outputs": [],
   "source": [
    "client = Client(\"http://localhost:8001/mcp\")\n",
    "\n",
    "async with client:\n",
    "    tools = await client.list_tools()\n",
    "\n"
   ]
  },
  {
   "cell_type": "code",
   "execution_count": 7,
   "id": "ecca2309",
   "metadata": {},
   "outputs": [
    {
     "data": {
      "text/plain": [
       "[Tool(name='get_formatted_item_context', title=None, description='Get the top k context, each representing an inventory item for a given query.\\n\\nArgs:\\n    query: The query to get the top k context for\\n    top_k: The number of context chunks to retrieve, works best with 5 or more\\n\\nReturns:\\n    A string of the top k context chunks with IDs prepending each chunk, each representing an inventory item for a given query.', inputSchema={'properties': {'query': {'title': 'Query', 'type': 'string'}, 'top_k': {'default': 5, 'title': 'Top K', 'type': 'integer'}}, 'required': ['query'], 'type': 'object'}, outputSchema={'properties': {'result': {'title': 'Result', 'type': 'string'}}, 'required': ['result'], 'title': '_WrappedResult', 'type': 'object', 'x-fastmcp-wrap-result': True}, annotations=None, meta={'_fastmcp': {'tags': []}})]"
      ]
     },
     "execution_count": 7,
     "metadata": {},
     "output_type": "execute_result"
    }
   ],
   "source": [
    "tools"
   ]
  },
  {
   "cell_type": "code",
   "execution_count": 8,
   "id": "4b9d96c1",
   "metadata": {},
   "outputs": [],
   "source": [
    "\n",
    "async with client:\n",
    "    # List available resources\n",
    "    result = await client.call_tool(\"get_formatted_item_context\", {\"query\": \"earphones\", \"top_k\": 5})"
   ]
  },
  {
   "cell_type": "code",
   "execution_count": 9,
   "id": "6b2f2fb2",
   "metadata": {},
   "outputs": [
    {
     "data": {
      "text/plain": [
       "CallToolResult(content=[TextContent(type='text', text=\"B09NLTDHQ6: Active Noise Cancelling Wireless Earbuds, Bluetooth in-Ear Headphones Built-in 4 Mic ENC Call, Deep Bass Ear Buds,IPX6 Waterproof Stereo Earphones for iPhone,Samsung,Laptop (Blue) ♪【ANC Noise Cancelling&Game Mode】: These premium noise-canceling earbuds adopts professional audio active noise canceling technology, and the binaural microphone blocks environmental noise and enhances the voice experience. M48 wireless earbuds are built to provide the exceptional mobile gaming audio experience with an ultra-low 45ms latency.Taps 5 times to enter game mode,through quick sound effect and ideal gaming audio you never miss any game sound effects. ♪【HiFi Stereo Sound & Superior Clear Call 】: Heaphones equipped with a high-sensitivity diaphragm and dual 13mm drivers to restore audio authenticity and voice dynamics, crystal clarity and deep resonance bass characteristics enable you to enjoy immersive sound quality. Call noise canceling brings you crystal clear calls, even in a noisy environment,true wireless in-ear earbuds can achieve a perfect call experience and stereo sound. ♪【LED Light Display & USB-C Fast Charging】: Dual digital LED power display outside of the case is to show the power level for the charging case and to remind you to charge in time by USB-C charge quickly. Put wireless earphones back in the charging case, and the display will flash that meaning earbuds are being charged. 350mAH battery capacity charging case can provide 4 times full charging for two ear buds, each earphone can last for 4H, you can use it for a day without worry. ♪【Upgrade Bluetooth 5.3 & Auto Pairing & Reminder】: Adopting the latest Bluetooth technology 5.3, True wireless earbuds Bluetooth 5.3 have a faster transmission rate, lower latency, providing a fast and stable connection and signal transmission (10 meters barrier-free). Due to the replacement of old and new packaging, you may receive the package of Bluetooth 5.1, but the product is the latest version of Bluetooth 5.3, thanks for your understand. ♪【Touch Control & Transparent Mode】: Easy touch control brings you a convenient operation experience when answering calls, skipping songs, and selecting different listening modes by wireless earbuds bluetooth. With the Transprency mode, you can hear what you want to hear, so you can listen and interact with the world around you. You can clearly hear an announcement of the airline or subway, as well as the sound around you, without taking off the headphones.\\nB098K6N6TX: Hearprotek Sleep Earbuds Lightweight Soft Noise Reduction Earbuds Wired with Mic and Volume Control, 3.5mm Tangle Free Sleep Headphones for Side Sleepers, Snoring, Air Travel, Meditation, Relaxation [Super Comfy &Light Weight] Earphones are made from flexible silicone, which enables them to easily conform to your ear canal painless without bothering your ear. Super lightweight, only weighs 0.36oz (10.2g/pair), which are almost hardly feel them when sleeping，the best companion for side sleepers. [Double Layers Design & Noise Reduction] Sleeping earphones are adapted with double layers design to provide better noise reduction. You don't need have to sleep on your back, side sleeper also could get a good night. Earphone keeps the traffic noise, neighbour noise, the ticking of clock, office noise out of your ear, and the music will soothe the stress of all day. [Durable & Tangle Free] The earbuds are built in bulletproof tough wire which are durable and flexible. You don't have to worry about damage from your sleeping posture or entanglement. The 125CM extra long thin wire won’t restrict your movement as well. [Wide Compatibility] With 3.5mm jack plug, fits any standard audio device, you can easily fall asleep to your favorite music, audiobooks, podcasts and soothing sounds. [Multiple Button Control] Features with 3-button control, you can switch music and answer/reject phone call on your fingertip easily. You can soothe your tired mind and enjoy a restful sleep by listening to white noise or calming music.\\nB0C6KBJMHP: Apple Earbuds Headphone with Lightning Connector [Apple MFi Certified] Wired Earphones with Built-in Microphone and Volume Control for iPhone 14/13/12/11/SE/X/XR/XS/8/7,Support All iOS 🎵【Widely Compatibility】These Apple Earbuds are compatible with all lightning connector devices and widely compatible with iPhone 14/13/12/11/X/XR/8/7, iPad, and Pod, ensuring that you can use them with your favorite device. 🎵【Remote and Microphone】Use the remote to adjust the volume, control the playback, and answer or end calls with a pinch of the cord, while the built-in microphone allows you to call hands-free, making them easy to use. 🎵【High Quality Sound】The earbuds use 100% copper core to provide lossless digital sound quality, supporting 48KHz and 24-bit audio output for better sound transmission stability and fidelity, while the ergonomic noise reduction in-ear headphones minimize the noise in the surrounding environment and bring you a better music experience. 🎵【Wired Bluetooth Headset】 As this earphone is a Bluet00th connectivity version. You need to turn on the Bluet00th in your Phone or Pad, then plug the earphone in to connect them. When next time you use the earphone again, it will automatically connect to your device in 2-8 seconds. ATTENTION: This is very important, it is the first step that must done. 🎵【Risk-free Guarantee】With our 12 months quality assurance service and 7*24 online support, we are committed to providing satisfactory service to all our customers, ensuring that any questions or concerns are quickly resolved.\\nB0B1DM4Y5C: Tiksounds Wireless Earbuds, Bluetooth 5.3 Headphones, Bluetooth Earbuds with LED Display, 60 Hrs of Playtime, IPX7 Waterproof, Stereo Sound, Over Ear Earphones with Mic for Sports Running Workout Gym LED Digital Power Display: Wireless earbuds with LED display to clearly show the battery level of the charging case and earbuds. 60 Hours of Playback: Up to 10 hours of listening time on a single earbuds, over 60 hours with charging case. Bluetoth 5.3 and Stereo Sound Quality: Bluetooth earbuds with Bluetooth 5.3 chip technology and 10mm drivers let you experience crystal clear HD stereo sound and powerful bass. Designed for Sports: The adjustable, firm-fitting ear hooks keep the earphones stable. Keeps you comfortable during a hard workout or run. IPX7 Waterproof: IPX7 rated waterproof earbuds with nano-coating technology to prevent sweat and rain from damaging the components of the wireless earbuds.\\nB09Q5W9HPQ: [Apple MFi Certified] Lightning to 3.5 mm Headphone Jack Adapter for iPhone, 2 in 1 Lightning to 3.5mm AUX Audio Charger Splitter Compatible with iPhone 13 12 11 XS XR X 8 7 Audio Earphone Adaptor ✔Apple MFi Certified - The iPhone Headphones adapter has passed Apple MFi certification, which means this iPhone aux adapter guaranteed high quality and compatibility, No Error Message Pop-up. Perfect match all 3.5mm Headphone/Earphone. ✔Widely Compatible - This lightning to 3.5mm headphones jack adapter is compatible with iPhone 13/13 Mini/13 Pro/13 Pro Max/12/12 Mini/12 Pro/12 Pro Max/SE 2020/11/11 Pro/XS/XR/X/8/8 Plus/7/7 Plus, iPad, iPod. Support iOS 15 and before, you will be able to keep playing music using your original 3.5mm headphones/aux cable in the car. ✔Multi Function - The 2 in 1 Lightning to 3.5mm Headphone Audio & Charger adapter cable supports listen to music and charge your phone at the same time. Support Charging, Headset Control, Data Transfer, Microphone and Remote. ✔Plug and Play - No extra software, 2 in 1 iPhone Charger and headphones adapter supports up to 24bit 48kHz lossless output, ensuring sound transmission stability and fidelity.Allows you to enjoy perfect music while charging, without worrying about running out of battery.Particularly Designed for iPhone Lovers. ✔Quality Service - You will get 1 * iPhone Headphone Adapter, we also provide a 12-Month Worry-Free Warranty and Lifetime Technical Support. Any issues with this iPhone dongle adapter, contact us for fast support.\\n\", annotations=None, meta=None)], structured_content={'result': \"B09NLTDHQ6: Active Noise Cancelling Wireless Earbuds, Bluetooth in-Ear Headphones Built-in 4 Mic ENC Call, Deep Bass Ear Buds,IPX6 Waterproof Stereo Earphones for iPhone,Samsung,Laptop (Blue) ♪【ANC Noise Cancelling&Game Mode】: These premium noise-canceling earbuds adopts professional audio active noise canceling technology, and the binaural microphone blocks environmental noise and enhances the voice experience. M48 wireless earbuds are built to provide the exceptional mobile gaming audio experience with an ultra-low 45ms latency.Taps 5 times to enter game mode,through quick sound effect and ideal gaming audio you never miss any game sound effects. ♪【HiFi Stereo Sound & Superior Clear Call 】: Heaphones equipped with a high-sensitivity diaphragm and dual 13mm drivers to restore audio authenticity and voice dynamics, crystal clarity and deep resonance bass characteristics enable you to enjoy immersive sound quality. Call noise canceling brings you crystal clear calls, even in a noisy environment,true wireless in-ear earbuds can achieve a perfect call experience and stereo sound. ♪【LED Light Display & USB-C Fast Charging】: Dual digital LED power display outside of the case is to show the power level for the charging case and to remind you to charge in time by USB-C charge quickly. Put wireless earphones back in the charging case, and the display will flash that meaning earbuds are being charged. 350mAH battery capacity charging case can provide 4 times full charging for two ear buds, each earphone can last for 4H, you can use it for a day without worry. ♪【Upgrade Bluetooth 5.3 & Auto Pairing & Reminder】: Adopting the latest Bluetooth technology 5.3, True wireless earbuds Bluetooth 5.3 have a faster transmission rate, lower latency, providing a fast and stable connection and signal transmission (10 meters barrier-free). Due to the replacement of old and new packaging, you may receive the package of Bluetooth 5.1, but the product is the latest version of Bluetooth 5.3, thanks for your understand. ♪【Touch Control & Transparent Mode】: Easy touch control brings you a convenient operation experience when answering calls, skipping songs, and selecting different listening modes by wireless earbuds bluetooth. With the Transprency mode, you can hear what you want to hear, so you can listen and interact with the world around you. You can clearly hear an announcement of the airline or subway, as well as the sound around you, without taking off the headphones.\\nB098K6N6TX: Hearprotek Sleep Earbuds Lightweight Soft Noise Reduction Earbuds Wired with Mic and Volume Control, 3.5mm Tangle Free Sleep Headphones for Side Sleepers, Snoring, Air Travel, Meditation, Relaxation [Super Comfy &Light Weight] Earphones are made from flexible silicone, which enables them to easily conform to your ear canal painless without bothering your ear. Super lightweight, only weighs 0.36oz (10.2g/pair), which are almost hardly feel them when sleeping，the best companion for side sleepers. [Double Layers Design & Noise Reduction] Sleeping earphones are adapted with double layers design to provide better noise reduction. You don't need have to sleep on your back, side sleeper also could get a good night. Earphone keeps the traffic noise, neighbour noise, the ticking of clock, office noise out of your ear, and the music will soothe the stress of all day. [Durable & Tangle Free] The earbuds are built in bulletproof tough wire which are durable and flexible. You don't have to worry about damage from your sleeping posture or entanglement. The 125CM extra long thin wire won’t restrict your movement as well. [Wide Compatibility] With 3.5mm jack plug, fits any standard audio device, you can easily fall asleep to your favorite music, audiobooks, podcasts and soothing sounds. [Multiple Button Control] Features with 3-button control, you can switch music and answer/reject phone call on your fingertip easily. You can soothe your tired mind and enjoy a restful sleep by listening to white noise or calming music.\\nB0C6KBJMHP: Apple Earbuds Headphone with Lightning Connector [Apple MFi Certified] Wired Earphones with Built-in Microphone and Volume Control for iPhone 14/13/12/11/SE/X/XR/XS/8/7,Support All iOS 🎵【Widely Compatibility】These Apple Earbuds are compatible with all lightning connector devices and widely compatible with iPhone 14/13/12/11/X/XR/8/7, iPad, and Pod, ensuring that you can use them with your favorite device. 🎵【Remote and Microphone】Use the remote to adjust the volume, control the playback, and answer or end calls with a pinch of the cord, while the built-in microphone allows you to call hands-free, making them easy to use. 🎵【High Quality Sound】The earbuds use 100% copper core to provide lossless digital sound quality, supporting 48KHz and 24-bit audio output for better sound transmission stability and fidelity, while the ergonomic noise reduction in-ear headphones minimize the noise in the surrounding environment and bring you a better music experience. 🎵【Wired Bluetooth Headset】 As this earphone is a Bluet00th connectivity version. You need to turn on the Bluet00th in your Phone or Pad, then plug the earphone in to connect them. When next time you use the earphone again, it will automatically connect to your device in 2-8 seconds. ATTENTION: This is very important, it is the first step that must done. 🎵【Risk-free Guarantee】With our 12 months quality assurance service and 7*24 online support, we are committed to providing satisfactory service to all our customers, ensuring that any questions or concerns are quickly resolved.\\nB0B1DM4Y5C: Tiksounds Wireless Earbuds, Bluetooth 5.3 Headphones, Bluetooth Earbuds with LED Display, 60 Hrs of Playtime, IPX7 Waterproof, Stereo Sound, Over Ear Earphones with Mic for Sports Running Workout Gym LED Digital Power Display: Wireless earbuds with LED display to clearly show the battery level of the charging case and earbuds. 60 Hours of Playback: Up to 10 hours of listening time on a single earbuds, over 60 hours with charging case. Bluetoth 5.3 and Stereo Sound Quality: Bluetooth earbuds with Bluetooth 5.3 chip technology and 10mm drivers let you experience crystal clear HD stereo sound and powerful bass. Designed for Sports: The adjustable, firm-fitting ear hooks keep the earphones stable. Keeps you comfortable during a hard workout or run. IPX7 Waterproof: IPX7 rated waterproof earbuds with nano-coating technology to prevent sweat and rain from damaging the components of the wireless earbuds.\\nB09Q5W9HPQ: [Apple MFi Certified] Lightning to 3.5 mm Headphone Jack Adapter for iPhone, 2 in 1 Lightning to 3.5mm AUX Audio Charger Splitter Compatible with iPhone 13 12 11 XS XR X 8 7 Audio Earphone Adaptor ✔Apple MFi Certified - The iPhone Headphones adapter has passed Apple MFi certification, which means this iPhone aux adapter guaranteed high quality and compatibility, No Error Message Pop-up. Perfect match all 3.5mm Headphone/Earphone. ✔Widely Compatible - This lightning to 3.5mm headphones jack adapter is compatible with iPhone 13/13 Mini/13 Pro/13 Pro Max/12/12 Mini/12 Pro/12 Pro Max/SE 2020/11/11 Pro/XS/XR/X/8/8 Plus/7/7 Plus, iPad, iPod. Support iOS 15 and before, you will be able to keep playing music using your original 3.5mm headphones/aux cable in the car. ✔Multi Function - The 2 in 1 Lightning to 3.5mm Headphone Audio & Charger adapter cable supports listen to music and charge your phone at the same time. Support Charging, Headset Control, Data Transfer, Microphone and Remote. ✔Plug and Play - No extra software, 2 in 1 iPhone Charger and headphones adapter supports up to 24bit 48kHz lossless output, ensuring sound transmission stability and fidelity.Allows you to enjoy perfect music while charging, without worrying about running out of battery.Particularly Designed for iPhone Lovers. ✔Quality Service - You will get 1 * iPhone Headphone Adapter, we also provide a 12-Month Worry-Free Warranty and Lifetime Technical Support. Any issues with this iPhone dongle adapter, contact us for fast support.\\n\"}, data=\"B09NLTDHQ6: Active Noise Cancelling Wireless Earbuds, Bluetooth in-Ear Headphones Built-in 4 Mic ENC Call, Deep Bass Ear Buds,IPX6 Waterproof Stereo Earphones for iPhone,Samsung,Laptop (Blue) ♪【ANC Noise Cancelling&Game Mode】: These premium noise-canceling earbuds adopts professional audio active noise canceling technology, and the binaural microphone blocks environmental noise and enhances the voice experience. M48 wireless earbuds are built to provide the exceptional mobile gaming audio experience with an ultra-low 45ms latency.Taps 5 times to enter game mode,through quick sound effect and ideal gaming audio you never miss any game sound effects. ♪【HiFi Stereo Sound & Superior Clear Call 】: Heaphones equipped with a high-sensitivity diaphragm and dual 13mm drivers to restore audio authenticity and voice dynamics, crystal clarity and deep resonance bass characteristics enable you to enjoy immersive sound quality. Call noise canceling brings you crystal clear calls, even in a noisy environment,true wireless in-ear earbuds can achieve a perfect call experience and stereo sound. ♪【LED Light Display & USB-C Fast Charging】: Dual digital LED power display outside of the case is to show the power level for the charging case and to remind you to charge in time by USB-C charge quickly. Put wireless earphones back in the charging case, and the display will flash that meaning earbuds are being charged. 350mAH battery capacity charging case can provide 4 times full charging for two ear buds, each earphone can last for 4H, you can use it for a day without worry. ♪【Upgrade Bluetooth 5.3 & Auto Pairing & Reminder】: Adopting the latest Bluetooth technology 5.3, True wireless earbuds Bluetooth 5.3 have a faster transmission rate, lower latency, providing a fast and stable connection and signal transmission (10 meters barrier-free). Due to the replacement of old and new packaging, you may receive the package of Bluetooth 5.1, but the product is the latest version of Bluetooth 5.3, thanks for your understand. ♪【Touch Control & Transparent Mode】: Easy touch control brings you a convenient operation experience when answering calls, skipping songs, and selecting different listening modes by wireless earbuds bluetooth. With the Transprency mode, you can hear what you want to hear, so you can listen and interact with the world around you. You can clearly hear an announcement of the airline or subway, as well as the sound around you, without taking off the headphones.\\nB098K6N6TX: Hearprotek Sleep Earbuds Lightweight Soft Noise Reduction Earbuds Wired with Mic and Volume Control, 3.5mm Tangle Free Sleep Headphones for Side Sleepers, Snoring, Air Travel, Meditation, Relaxation [Super Comfy &Light Weight] Earphones are made from flexible silicone, which enables them to easily conform to your ear canal painless without bothering your ear. Super lightweight, only weighs 0.36oz (10.2g/pair), which are almost hardly feel them when sleeping，the best companion for side sleepers. [Double Layers Design & Noise Reduction] Sleeping earphones are adapted with double layers design to provide better noise reduction. You don't need have to sleep on your back, side sleeper also could get a good night. Earphone keeps the traffic noise, neighbour noise, the ticking of clock, office noise out of your ear, and the music will soothe the stress of all day. [Durable & Tangle Free] The earbuds are built in bulletproof tough wire which are durable and flexible. You don't have to worry about damage from your sleeping posture or entanglement. The 125CM extra long thin wire won’t restrict your movement as well. [Wide Compatibility] With 3.5mm jack plug, fits any standard audio device, you can easily fall asleep to your favorite music, audiobooks, podcasts and soothing sounds. [Multiple Button Control] Features with 3-button control, you can switch music and answer/reject phone call on your fingertip easily. You can soothe your tired mind and enjoy a restful sleep by listening to white noise or calming music.\\nB0C6KBJMHP: Apple Earbuds Headphone with Lightning Connector [Apple MFi Certified] Wired Earphones with Built-in Microphone and Volume Control for iPhone 14/13/12/11/SE/X/XR/XS/8/7,Support All iOS 🎵【Widely Compatibility】These Apple Earbuds are compatible with all lightning connector devices and widely compatible with iPhone 14/13/12/11/X/XR/8/7, iPad, and Pod, ensuring that you can use them with your favorite device. 🎵【Remote and Microphone】Use the remote to adjust the volume, control the playback, and answer or end calls with a pinch of the cord, while the built-in microphone allows you to call hands-free, making them easy to use. 🎵【High Quality Sound】The earbuds use 100% copper core to provide lossless digital sound quality, supporting 48KHz and 24-bit audio output for better sound transmission stability and fidelity, while the ergonomic noise reduction in-ear headphones minimize the noise in the surrounding environment and bring you a better music experience. 🎵【Wired Bluetooth Headset】 As this earphone is a Bluet00th connectivity version. You need to turn on the Bluet00th in your Phone or Pad, then plug the earphone in to connect them. When next time you use the earphone again, it will automatically connect to your device in 2-8 seconds. ATTENTION: This is very important, it is the first step that must done. 🎵【Risk-free Guarantee】With our 12 months quality assurance service and 7*24 online support, we are committed to providing satisfactory service to all our customers, ensuring that any questions or concerns are quickly resolved.\\nB0B1DM4Y5C: Tiksounds Wireless Earbuds, Bluetooth 5.3 Headphones, Bluetooth Earbuds with LED Display, 60 Hrs of Playtime, IPX7 Waterproof, Stereo Sound, Over Ear Earphones with Mic for Sports Running Workout Gym LED Digital Power Display: Wireless earbuds with LED display to clearly show the battery level of the charging case and earbuds. 60 Hours of Playback: Up to 10 hours of listening time on a single earbuds, over 60 hours with charging case. Bluetoth 5.3 and Stereo Sound Quality: Bluetooth earbuds with Bluetooth 5.3 chip technology and 10mm drivers let you experience crystal clear HD stereo sound and powerful bass. Designed for Sports: The adjustable, firm-fitting ear hooks keep the earphones stable. Keeps you comfortable during a hard workout or run. IPX7 Waterproof: IPX7 rated waterproof earbuds with nano-coating technology to prevent sweat and rain from damaging the components of the wireless earbuds.\\nB09Q5W9HPQ: [Apple MFi Certified] Lightning to 3.5 mm Headphone Jack Adapter for iPhone, 2 in 1 Lightning to 3.5mm AUX Audio Charger Splitter Compatible with iPhone 13 12 11 XS XR X 8 7 Audio Earphone Adaptor ✔Apple MFi Certified - The iPhone Headphones adapter has passed Apple MFi certification, which means this iPhone aux adapter guaranteed high quality and compatibility, No Error Message Pop-up. Perfect match all 3.5mm Headphone/Earphone. ✔Widely Compatible - This lightning to 3.5mm headphones jack adapter is compatible with iPhone 13/13 Mini/13 Pro/13 Pro Max/12/12 Mini/12 Pro/12 Pro Max/SE 2020/11/11 Pro/XS/XR/X/8/8 Plus/7/7 Plus, iPad, iPod. Support iOS 15 and before, you will be able to keep playing music using your original 3.5mm headphones/aux cable in the car. ✔Multi Function - The 2 in 1 Lightning to 3.5mm Headphone Audio & Charger adapter cable supports listen to music and charge your phone at the same time. Support Charging, Headset Control, Data Transfer, Microphone and Remote. ✔Plug and Play - No extra software, 2 in 1 iPhone Charger and headphones adapter supports up to 24bit 48kHz lossless output, ensuring sound transmission stability and fidelity.Allows you to enjoy perfect music while charging, without worrying about running out of battery.Particularly Designed for iPhone Lovers. ✔Quality Service - You will get 1 * iPhone Headphone Adapter, we also provide a 12-Month Worry-Free Warranty and Lifetime Technical Support. Any issues with this iPhone dongle adapter, contact us for fast support.\\n\", is_error=False)"
      ]
     },
     "execution_count": 9,
     "metadata": {},
     "output_type": "execute_result"
    }
   ],
   "source": [
    "result"
   ]
  },
  {
   "cell_type": "code",
   "execution_count": 10,
   "id": "b6499dc1",
   "metadata": {},
   "outputs": [],
   "source": [
    "def parse_docstring_params(docstring: str) -> Dict[str, str]:\n",
    "    \"\"\"Extract parameter descriptions from docstring (handles both Args: and Parameters: formats).\"\"\"\n",
    "    params = {}\n",
    "    lines = docstring.split('\\n')\n",
    "    in_params = False\n",
    "    current_param = None\n",
    "    \n",
    "    for line in lines:\n",
    "        stripped = line.strip()\n",
    "        \n",
    "        # Check for parameter section start\n",
    "        if stripped in ['Args:', 'Arguments:', 'Parameters:', 'Params:']:\n",
    "            in_params = True\n",
    "            current_param = None\n",
    "        elif stripped.startswith('Returns:') or stripped.startswith('Raises:'):\n",
    "            in_params = False\n",
    "        elif in_params:\n",
    "            # Parse parameter line (handles \"param: desc\" and \"- param: desc\" formats)\n",
    "            if ':' in stripped and (stripped[0].isalpha() or stripped.startswith(('-', '*'))):\n",
    "                param_name = stripped.lstrip('- *').split(':')[0].strip()\n",
    "                param_desc = ':'.join(stripped.lstrip('- *').split(':')[1:]).strip()\n",
    "                params[param_name] = param_desc\n",
    "                current_param = param_name\n",
    "            elif current_param and stripped:\n",
    "                # Continuation of previous parameter description\n",
    "                params[current_param] += ' ' + stripped\n",
    "    \n",
    "    return params\n"
   ]
  },
  {
   "cell_type": "code",
   "execution_count": 10,
   "id": "770b73d0",
   "metadata": {},
   "outputs": [
    {
     "data": {
      "text/plain": [
       "{'query': 'The query to get the top k context for',\n",
       " 'top_k': 'The number of context chunks to retrieve, works best with 5 or more'}"
      ]
     },
     "execution_count": 10,
     "metadata": {},
     "output_type": "execute_result"
    }
   ],
   "source": [
    "parse_docstring_params(tools[0].description)"
   ]
  },
  {
   "cell_type": "code",
   "execution_count": 11,
   "id": "d1969c82",
   "metadata": {},
   "outputs": [],
   "source": [
    "async def get_tool_descriptions_from_mcp_servers(mcp_servers: list[str]) -> list[dict]:\n",
    "\n",
    "    tool_descriptions = []\n",
    "\n",
    "    for server in mcp_servers:\n",
    "\n",
    "        client = Client(server)\n",
    "\n",
    "        async with client:\n",
    "\n",
    "            tools = await client.list_tools()\n",
    "\n",
    "            for tool in tools:\n",
    "                \n",
    "                result = {\n",
    "                    \"name\": \"\",\n",
    "                    \"description\": \"\",\n",
    "                    \"parameters\": {\"type\": \"object\", \"properties\": {}},\n",
    "                    \"required\": [],\n",
    "                    \"returns\": {\"type\": \"string\", \"description\": \"\"},\n",
    "                    \"server\": server\n",
    "                }\n",
    "\n",
    "                result[\"name\"] = tool.name\n",
    "                result[\"required\"] = tool.inputSchema.get(\"required\", [])\n",
    "\n",
    "                ## Get Description\n",
    "\n",
    "                description = tool.description.split(\"\\n\\n\")[0]\n",
    "                result[\"description\"] = description\n",
    "\n",
    "\n",
    "                ## Get Returns\n",
    "\n",
    "                returns = tool.description.split(\"Returns:\")[1].strip()\n",
    "                result[\"returns\"][\"description\"] = returns\n",
    "\n",
    "                ## Get parameters\n",
    "\n",
    "                property_descriptions = parse_docstring_params(tool.description)\n",
    "                properties = tool.inputSchema.get(\"properties\", {})\n",
    "                for key, value in properties.items():\n",
    "                    properties[key][\"description\"] = property_descriptions.get(key, \"\")\n",
    "\n",
    "                result[\"parameters\"][\"properties\"] = properties\n",
    "\n",
    "                tool_descriptions.append(result)\n",
    "\n",
    "    return tool_descriptions"
   ]
  },
  {
   "cell_type": "code",
   "execution_count": 12,
   "id": "73d9b961",
   "metadata": {},
   "outputs": [],
   "source": [
    "mcp_servers = [\"http://localhost:8001/mcp\", \"http://localhost:8002/mcp\"]\n"
   ]
  },
  {
   "cell_type": "code",
   "execution_count": 13,
   "id": "550aafd3",
   "metadata": {},
   "outputs": [],
   "source": [
    "tool_descriptions = await get_tool_descriptions_from_mcp_servers(mcp_servers)\n"
   ]
  },
  {
   "cell_type": "code",
   "execution_count": 14,
   "id": "0dda9a22",
   "metadata": {},
   "outputs": [
    {
     "data": {
      "text/plain": [
       "[{'name': 'get_formatted_item_context',\n",
       "  'description': 'Get the top k context, each representing an inventory item for a given query.',\n",
       "  'parameters': {'type': 'object',\n",
       "   'properties': {'query': {'title': 'Query',\n",
       "     'type': 'string',\n",
       "     'description': 'The query to get the top k context for'},\n",
       "    'top_k': {'default': 5,\n",
       "     'title': 'Top K',\n",
       "     'type': 'integer',\n",
       "     'description': 'The number of context chunks to retrieve, works best with 5 or more'}}},\n",
       "  'required': ['query'],\n",
       "  'returns': {'type': 'string',\n",
       "   'description': 'A string of the top k context chunks with IDs prepending each chunk, each representing an inventory item for a given query.'},\n",
       "  'server': 'http://localhost:8001/mcp'},\n",
       " {'name': 'get_formatted_review_context',\n",
       "  'description': 'Get the top k reviews matching a query for a list of prefiltered items.',\n",
       "  'parameters': {'type': 'object',\n",
       "   'properties': {'query': {'title': 'Query',\n",
       "     'type': 'string',\n",
       "     'description': 'The query to get the top k reviews for'},\n",
       "    'item_list': {'items': {'type': 'string'},\n",
       "     'title': 'Item List',\n",
       "     'type': 'array',\n",
       "     'description': 'The list of item IDs to prefilter for before running the query'},\n",
       "    'top_k': {'default': 20,\n",
       "     'title': 'Top K',\n",
       "     'type': 'integer',\n",
       "     'description': 'The number of reviews to retrieve, this should be at least 20 if multiple items are prefiltered'}}},\n",
       "  'required': ['query', 'item_list'],\n",
       "  'returns': {'type': 'string',\n",
       "   'description': 'A string of the top k context chunks with IDs prepending each chunk, each representing an inventory item for a given query.'},\n",
       "  'server': 'http://localhost:8002/mcp'}]"
      ]
     },
     "execution_count": 14,
     "metadata": {},
     "output_type": "execute_result"
    }
   ],
   "source": [
    "tool_descriptions\n"
   ]
  },
  {
   "cell_type": "code",
   "execution_count": 32,
   "id": "25e42619",
   "metadata": {},
   "outputs": [],
   "source": [
    "class ToolCall(BaseModel):\n",
    "    name: str\n",
    "    arguments: dict\n",
    "    server: str\n",
    "\n",
    "class RAGUsedContext(BaseModel):\n",
    "    id: int\n",
    "    description: str\n",
    "\n",
    "class ProductQAAgentResponse(BaseModel):\n",
    "    answer: str\n",
    "    tool_calls: List[ToolCall] = Field(default_factory=list)\n",
    "    final_answer: bool = Field(default=False)\n",
    "    retrieved_context_ids: List[RAGUsedContext]\n",
    "\n",
    "class State(BaseModel):\n",
    "    messages: Annotated[List[Any], add] = []\n",
    "    answer: str = \"\"\n",
    "    iteration: int = Field(default=0)\n",
    "    final_answer: bool = Field(default=False)\n",
    "    available_tools: List[Dict[str, Any]] = []\n",
    "    tool_calls: Optional[List[ToolCall]] = Field(default_factory=list)\n",
    "    retrieved_context_ids: List[RAGUsedContext] = Field(default_factory=list)\n",
    "    user_intent: str = \"\""
   ]
  },
  {
   "cell_type": "code",
   "execution_count": null,
   "id": "7802df51",
   "metadata": {},
   "outputs": [],
   "source": []
  },
  {
   "cell_type": "markdown",
   "id": "b1150117",
   "metadata": {},
   "source": [
    "### The ProductQA Agent Node"
   ]
  },
  {
   "cell_type": "code",
   "execution_count": 33,
   "id": "c78d1add",
   "metadata": {},
   "outputs": [],
   "source": [
    "@traceable(\n",
    "    name=\"product_qa_agent\",\n",
    "    run_type=\"llm\",\n",
    "    metadata={\"ls_provider\": \"openai\", \"ls_model_name\": \"gpt-4.1\"}\n",
    ")\n",
    "def product_qa_agent_node(state: State) -> dict:\n",
    "\n",
    "   prompt_template =  \"\"\"You are a shopping assistant that can answer questions about the products in stock.\n",
    "\n",
    "You will be given a question and a list of tools you can use to answer that question.\n",
    "\n",
    "<Available tools>\n",
    "{{ available_tools | tojson }}\n",
    "</Available tools>\n",
    "\n",
    "After the tools are used you will get the outputs from the tools.\n",
    "\n",
    "When you need to use a tool, format your response as:\n",
    "\n",
    "<tool_call>\n",
    "{\"name\": \"tool_name\", \"arguments\": {...}}\n",
    "</tool_call>\n",
    "\n",
    "Use names specifically provided in the available tools. Don't add any additional text to the names.\n",
    "\n",
    "You should tend to use tools when additional information is needed to answer the question.\n",
    "\n",
    "If you set final_answer to True, you should not use any tools.\n",
    "\n",
    "Instructions:\n",
    "- You need to answer the question based on the retrieved context using the available tools only.\n",
    "- Never use word context and refer to it as the available products.\n",
    "- You should only answer questions about the products in stock. If the question is not about the products in stock, you should ask for clarification.\n",
    "- As a final output you need to provide:\n",
    "\n",
    "* The answer to the question based on the retrieved context.\n",
    "* The list of the indexes from the chunks returned from all tool calls that were used to answer the question. If more than one chunk was used to compile the answer from a single tool call, be sure to return all of them.\n",
    "* Short description of the item based on the retrieved context.\n",
    "\n",
    "- The answer to the question should contain detailed information about the product and returned with detailed specification in bullet points.\n",
    "- The short description should have the name of the item.\n",
    "- If the user's request requires using a tool, set tool_calls with the appropriate function name and arguments.\n",
    "- If you have all the information needed to provide a complete answer, set final_answer to True.\n",
    "\"\"\"\n",
    "\n",
    "   template = Template(prompt_template)\n",
    "   \n",
    "   prompt = template.render(\n",
    "      available_tools=state.available_tools\n",
    "   )\n",
    "\n",
    "   messages = state.messages\n",
    "\n",
    "   conversation = []\n",
    "\n",
    "   for msg in messages:\n",
    "      conversation.append(lc_messages_to_regular_messages(msg))\n",
    "\n",
    "   client = instructor.from_openai(OpenAI())\n",
    "\n",
    "   response, raw_response = client.chat.completions.create_with_completion(\n",
    "        model=\"gpt-4.1\",\n",
    "        response_model=ProductQAAgentResponse,\n",
    "        messages=[{\"role\": \"system\", \"content\": prompt}, *conversation],\n",
    "        temperature=0,\n",
    "   )\n",
    "\n",
    "   if response.tool_calls:\n",
    "      tool_calls = []\n",
    "      for i, tc in enumerate(response.tool_calls):\n",
    "         tool_calls.append({\n",
    "               \"id\": f\"call_{i}\",\n",
    "               \"name\": tc.name,\n",
    "               \"args\": tc.arguments\n",
    "         })\n",
    "\n",
    "      ai_message = AIMessage(\n",
    "         content=response.answer,\n",
    "         tool_calls=tool_calls\n",
    "         )\n",
    "   else:\n",
    "      ai_message = AIMessage(\n",
    "         content=response.answer,\n",
    "      )\n",
    "\n",
    "   return {\n",
    "      \"messages\": [ai_message],\n",
    "      \"tool_calls\": response.tool_calls,\n",
    "      \"iteration\": state.iteration + 1,\n",
    "      \"answer\": response.answer,\n",
    "      \"final_answer\": response.final_answer,\n",
    "      \"retrieved_context_ids\": response.retrieved_context_ids\n",
    "   }"
   ]
  },
  {
   "cell_type": "markdown",
   "id": "2060b440",
   "metadata": {},
   "source": [
    "### User Intent Router Node"
   ]
  },
  {
   "cell_type": "code",
   "execution_count": 23,
   "id": "6ecf39c6",
   "metadata": {},
   "outputs": [],
   "source": [
    "class IntentRouterAgentResponse(BaseModel):\n",
    "    user_intent: str\n",
    "    answer: str"
   ]
  },
  {
   "cell_type": "code",
   "execution_count": 34,
   "id": "56d45711",
   "metadata": {},
   "outputs": [],
   "source": [
    "@traceable(\n",
    "    name=\"intent_router_agent\",\n",
    "    run_type=\"llm\",\n",
    "    metadata={\"ls_provider\": \"openai\", \"ls_model_name\": \"gpt-4.1\"}\n",
    ")\n",
    "def intent_router_agent_node(state: State) -> dict:\n",
    "\n",
    "   prompt_template =  \"\"\"You are a part of a shopping assistant that routes user queries to the appropriate agents.\n",
    "\n",
    "You will be given a conversation history, your task is to classify the intent of the user's latest query and output an appropriate classification.\n",
    "\n",
    "The possible intents are:\n",
    "\n",
    "- product_qa: The user is asking a question about a product. This can be a question about available products, their specifications, user reviews etc.\n",
    "- other: The user's latest query is not clear or not related to the shopping assistant.\n",
    "\n",
    "Additional instructions:\n",
    "\n",
    "- Write the intent classification to the user_intent field.\n",
    "- If the classification is 'other', you should output the answer to the user's query trying to clarify the user's intent.\n",
    "- If the classification is 'product_qa', you should only output the intent classification and no other text.\n",
    "\"\"\"\n",
    "\n",
    "   template = Template(prompt_template)\n",
    "   \n",
    "   prompt = template.render()\n",
    "\n",
    "   messages = state.messages\n",
    "\n",
    "   conversation = []\n",
    "\n",
    "   for msg in messages:\n",
    "      conversation.append(lc_messages_to_regular_messages(msg))\n",
    "\n",
    "   client = instructor.from_openai(OpenAI())\n",
    "\n",
    "   response, raw_response = client.chat.completions.create_with_completion(\n",
    "        model=\"gpt-4.1\",\n",
    "        response_model=IntentRouterAgentResponse,\n",
    "        messages=[{\"role\": \"system\", \"content\": prompt}, *conversation],\n",
    "        temperature=0,\n",
    "   )\n",
    "\n",
    "   if response.user_intent == \"product_qa\":\n",
    "\n",
    "      ai_message = []\n",
    "   else:\n",
    "      ai_message = [AIMessage(\n",
    "         content=response.answer,\n",
    "      )]\n",
    "\n",
    "   return {\n",
    "      \"messages\": ai_message,\n",
    "      \"answer\": response.answer,\n",
    "      \"user_intent\": response.user_intent,\n",
    "   }"
   ]
  },
  {
   "cell_type": "markdown",
   "id": "215ee95e",
   "metadata": {},
   "source": [
    "### The Tool Use Router ###"
   ]
  },
  {
   "cell_type": "code",
   "execution_count": 18,
   "id": "5ed6e5dd",
   "metadata": {},
   "outputs": [],
   "source": [
    "def tool_router(state: State) -> str:\n",
    "    \"\"\"Decide whether to continue or end\"\"\"\n",
    "    \n",
    "    if state.final_answer:\n",
    "        return \"end\"\n",
    "    elif state.iteration > 2:\n",
    "        return \"end\"\n",
    "    elif len(state.tool_calls) > 0:\n",
    "        return \"tools\"\n",
    "    else:\n",
    "        return \"end\""
   ]
  },
  {
   "cell_type": "markdown",
   "id": "50697267",
   "metadata": {},
   "source": [
    "### User Intent Router"
   ]
  },
  {
   "cell_type": "code",
   "execution_count": 25,
   "id": "1f6d9f58",
   "metadata": {},
   "outputs": [],
   "source": [
    "def user_intent_router(state: State) -> str:\n",
    "    \"\"\"Decide whether to continue or end\"\"\"\n",
    "    \n",
    "    if state.user_intent == \"product_qa\":\n",
    "        return \"product_qa_agent\"\n",
    "    if state.user_intent == \"shopping_cart\":\n",
    "        return \"shopping_cart_agent\"\n",
    "    else:\n",
    "        return \"end\""
   ]
  },
  {
   "cell_type": "markdown",
   "id": "00b4619f",
   "metadata": {},
   "source": [
    "### Custom tool node function that supports running tools exposed by MCP servers"
   ]
  },
  {
   "cell_type": "code",
   "execution_count": 20,
   "id": "2a948ac5",
   "metadata": {},
   "outputs": [],
   "source": [
    "async def mcp_tool_node(state: State) -> str:\n",
    "\n",
    "    tool_messages = []\n",
    "\n",
    "    for i, tc in enumerate(state.tool_calls):\n",
    "\n",
    "        client = Client(tc.server)\n",
    "\n",
    "        async with client:\n",
    "\n",
    "            result = await client.call_tool(tc.name, tc.arguments)\n",
    "\n",
    "            tool_message = ToolMessage(\n",
    "                content=result,\n",
    "                tool_call_id=f\"call_{i}\"\n",
    "            )\n",
    "\n",
    "            tool_messages.append(tool_message)\n",
    "\n",
    "    return {\n",
    "        \"messages\": tool_messages\n",
    "    }"
   ]
  },
  {
   "cell_type": "code",
   "execution_count": 16,
   "id": "f61cea26",
   "metadata": {},
   "outputs": [],
   "source": [
    "def lc_messages_to_regular_messages(msg):\n",
    "\n",
    "    if isinstance(msg, dict):\n",
    "        \n",
    "        if msg.get(\"role\") == \"user\":\n",
    "            return {\"role\": \"user\", \"content\": msg[\"content\"]}\n",
    "        elif msg.get(\"role\") == \"assistant\":\n",
    "            return {\"role\": \"assistant\", \"content\": msg[\"content\"]}\n",
    "        elif msg.get(\"role\") == \"tool\":\n",
    "            return {\n",
    "                \"role\": \"tool\", \n",
    "                \"content\": msg[\"content\"], \n",
    "                \"tool_call_id\": msg.get(\"tool_call_id\")\n",
    "            }\n",
    "        \n",
    "    elif isinstance(msg, AIMessage):\n",
    "\n",
    "        result = {\n",
    "            \"role\": \"assistant\",\n",
    "            \"content\": msg.content\n",
    "        }\n",
    "        \n",
    "        if hasattr(msg, 'tool_calls') and msg.tool_calls and len(msg.tool_calls) > 0 and not msg.tool_calls[0].get(\"name\").startswith(\"functions.\"):\n",
    "            result[\"tool_calls\"] = [\n",
    "                {\n",
    "                    \"id\": tc[\"id\"],\n",
    "                    \"type\": \"function\",\n",
    "                    \"function\": {\n",
    "                        \"name\": tc[\"name\"].replace(\"functions.\", \"\"),\n",
    "                        \"arguments\": json.dumps(tc[\"args\"])\n",
    "                    }\n",
    "                }\n",
    "                for tc in msg.tool_calls\n",
    "            ]\n",
    "            \n",
    "        return result\n",
    "    \n",
    "    elif isinstance(msg, ToolMessage):\n",
    "\n",
    "        return {\"role\": \"tool\", \"content\": msg.content, \"tool_call_id\": msg.tool_call_id}\n",
    "    \n",
    "    else:\n",
    "\n",
    "        return {\"role\": \"user\", \"content\": str(msg)}"
   ]
  },
  {
   "cell_type": "markdown",
   "id": "99573425",
   "metadata": {},
   "source": [
    "### LangGraph Graph implementation with MCP support"
   ]
  },
  {
   "cell_type": "code",
   "execution_count": 29,
   "id": "8873eb5a",
   "metadata": {},
   "outputs": [
    {
     "ename": "ValueError",
     "evalue": "Channel 'retrieved_context_ids' already exists with a different type",
     "output_type": "error",
     "traceback": [
      "\u001b[31m---------------------------------------------------------------------------\u001b[39m",
      "\u001b[31mValueError\u001b[39m                                Traceback (most recent call last)",
      "\u001b[36mCell\u001b[39m\u001b[36m \u001b[39m\u001b[32mIn[29]\u001b[39m\u001b[32m, line 9\u001b[39m\n\u001b[32m      5\u001b[39m tool_descriptions = \u001b[38;5;28;01mawait\u001b[39;00m get_tool_descriptions_from_mcp_servers(mcp_servers)\n\u001b[32m      7\u001b[39m workflow.add_edge(START, \u001b[33m\"\u001b[39m\u001b[33mintent_router_agent_node\u001b[39m\u001b[33m\"\u001b[39m)\n\u001b[32m----> \u001b[39m\u001b[32m9\u001b[39m \u001b[43mworkflow\u001b[49m\u001b[43m.\u001b[49m\u001b[43madd_node\u001b[49m\u001b[43m(\u001b[49m\u001b[33;43m\"\u001b[39;49m\u001b[33;43mintent_router_agent_node\u001b[39;49m\u001b[33;43m\"\u001b[39;49m\u001b[43m,\u001b[49m\u001b[43m \u001b[49m\u001b[43mintent_router_agent_node\u001b[49m\u001b[43m)\u001b[49m\n\u001b[32m     10\u001b[39m workflow.add_node(\u001b[33m\"\u001b[39m\u001b[33mproduct_qa_agent_node\u001b[39m\u001b[33m\"\u001b[39m, product_qa_agent_node)\n\u001b[32m     11\u001b[39m workflow.add_node(\u001b[33m\"\u001b[39m\u001b[33mmcp_tool_node\u001b[39m\u001b[33m\"\u001b[39m, mcp_tool_node)\n",
      "\u001b[36mFile \u001b[39m\u001b[32m~/Development/AIML/SwirlAI/AI_bootcamp_summer_2025/01-ai-engineering-bootcamp/.venv/lib/python3.12/site-packages/langgraph/graph/state.py:537\u001b[39m, in \u001b[36mStateGraph.add_node\u001b[39m\u001b[34m(self, node, action, defer, metadata, input_schema, retry_policy, cache_policy, destinations, **kwargs)\u001b[39m\n\u001b[32m    534\u001b[39m     ends = destinations\n\u001b[32m    536\u001b[39m \u001b[38;5;28;01mif\u001b[39;00m input_schema \u001b[38;5;129;01mis\u001b[39;00m \u001b[38;5;129;01mnot\u001b[39;00m \u001b[38;5;28;01mNone\u001b[39;00m:\n\u001b[32m--> \u001b[39m\u001b[32m537\u001b[39m     \u001b[38;5;28;43mself\u001b[39;49m\u001b[43m.\u001b[49m\u001b[43m_add_schema\u001b[49m\u001b[43m(\u001b[49m\u001b[43minput_schema\u001b[49m\u001b[43m)\u001b[49m\n\u001b[32m    538\u001b[39m \u001b[38;5;28mself\u001b[39m.nodes[node] = StateNodeSpec(\n\u001b[32m    539\u001b[39m     coerce_to_runnable(action, name=node, trace=\u001b[38;5;28;01mFalse\u001b[39;00m),\n\u001b[32m    540\u001b[39m     metadata,\n\u001b[32m   (...)\u001b[39m\u001b[32m    545\u001b[39m     defer=defer,\n\u001b[32m    546\u001b[39m )\n\u001b[32m    547\u001b[39m \u001b[38;5;28;01mreturn\u001b[39;00m \u001b[38;5;28mself\u001b[39m\n",
      "\u001b[36mFile \u001b[39m\u001b[32m~/Development/AIML/SwirlAI/AI_bootcamp_summer_2025/01-ai-engineering-bootcamp/.venv/lib/python3.12/site-packages/langgraph/graph/state.py:322\u001b[39m, in \u001b[36mStateGraph._add_schema\u001b[39m\u001b[34m(self, schema, allow_managed)\u001b[39m\n\u001b[32m    320\u001b[39m             \u001b[38;5;28;01mpass\u001b[39;00m\n\u001b[32m    321\u001b[39m         \u001b[38;5;28;01melse\u001b[39;00m:\n\u001b[32m--> \u001b[39m\u001b[32m322\u001b[39m             \u001b[38;5;28;01mraise\u001b[39;00m \u001b[38;5;167;01mValueError\u001b[39;00m(\n\u001b[32m    323\u001b[39m                 \u001b[33mf\u001b[39m\u001b[33m\"\u001b[39m\u001b[33mChannel \u001b[39m\u001b[33m'\u001b[39m\u001b[38;5;132;01m{\u001b[39;00mkey\u001b[38;5;132;01m}\u001b[39;00m\u001b[33m'\u001b[39m\u001b[33m already exists with a different type\u001b[39m\u001b[33m\"\u001b[39m\n\u001b[32m    324\u001b[39m             )\n\u001b[32m    325\u001b[39m \u001b[38;5;28;01melse\u001b[39;00m:\n\u001b[32m    326\u001b[39m     \u001b[38;5;28mself\u001b[39m.channels[key] = channel\n",
      "\u001b[31mValueError\u001b[39m: Channel 'retrieved_context_ids' already exists with a different type"
     ]
    }
   ],
   "source": [
    "workflow = StateGraph(State)\n",
    "\n",
    "mcp_servers = [\"http://localhost:8001/mcp\", \"http://localhost:8002/mcp\"]\n",
    "\n",
    "tool_descriptions = await get_tool_descriptions_from_mcp_servers(mcp_servers)\n",
    "\n",
    "workflow.add_edge(START, \"intent_router_agent_node\")\n",
    "\n",
    "workflow.add_node(\"intent_router_agent_node\", intent_router_agent_node)\n",
    "workflow.add_node(\"product_qa_agent_node\", product_qa_agent_node)\n",
    "workflow.add_node(\"mcp_tool_node\", mcp_tool_node)\n",
    "\n",
    "workflow.add_conditional_edges(\n",
    "    \"intent_router_agent_node\",\n",
    "    user_intent_router,\n",
    "    {\n",
    "        \"product_qa_agent\": \"product_qa_agent_node\",\n",
    "        \"end\": END\n",
    "    }\n",
    ")\n",
    "\n",
    "workflow.add_conditional_edges(\n",
    "    \"product_qa_agent_node\",\n",
    "    tool_router,\n",
    "    {\n",
    "        \"tools\": \"mcp_tool_node\",\n",
    "        \"end\": END\n",
    "    }\n",
    ")\n",
    "\n",
    "workflow.add_edge(\"mcp_tool_node\", \"product_qa_agent_node\")\n",
    "\n",
    "graph = workflow.compile()"
   ]
  },
  {
   "cell_type": "code",
   "execution_count": null,
   "id": "f1aa9120",
   "metadata": {},
   "outputs": [],
   "source": []
  },
  {
   "cell_type": "code",
   "execution_count": null,
   "id": "d6594445",
   "metadata": {},
   "outputs": [],
   "source": []
  },
  {
   "cell_type": "code",
   "execution_count": 22,
   "id": "e7518865",
   "metadata": {},
   "outputs": [
    {
     "data": {
      "image/png": "[encoded data removed]",
      "text/plain": [
       "<IPython.core.display.Image object>"
      ]
     },
     "metadata": {},
     "output_type": "display_data"
    }
   ],
   "source": [
    "display(Image(graph.get_graph().draw_mermaid_png()))"
   ]
  },
  {
   "cell_type": "code",
   "execution_count": null,
   "id": "d628458a",
   "metadata": {},
   "outputs": [],
   "source": []
  },
  {
   "cell_type": "code",
   "execution_count": 45,
   "id": "27ca7a6d",
   "metadata": {},
   "outputs": [
    {
     "ename": "ValidationError",
     "evalue": "3 validation errors for State\ntool_calls.0\n  Input should be a valid dictionary or instance of ToolCall [type=model_type, input_value=ToolCall(name='get_format...p://localhost:8001/mcp'), input_type=ToolCall]\n    For further information visit https://errors.pydantic.dev/2.11/v/model_type\ntool_calls.1\n  Input should be a valid dictionary or instance of ToolCall [type=model_type, input_value=ToolCall(name='get_format...p://localhost:8001/mcp'), input_type=ToolCall]\n    For further information visit https://errors.pydantic.dev/2.11/v/model_type\ntool_calls.2\n  Input should be a valid dictionary or instance of ToolCall [type=model_type, input_value=ToolCall(name='get_format...p://localhost:8001/mcp'), input_type=ToolCall]\n    For further information visit https://errors.pydantic.dev/2.11/v/model_type",
     "output_type": "error",
     "traceback": [
      "\u001b[31m---------------------------------------------------------------------------\u001b[39m",
      "\u001b[31mValidationError\u001b[39m                           Traceback (most recent call last)",
      "\u001b[36mCell\u001b[39m\u001b[36m \u001b[39m\u001b[32mIn[45]\u001b[39m\u001b[32m, line 5\u001b[39m\n\u001b[32m      1\u001b[39m initial_state = {\n\u001b[32m      2\u001b[39m     \u001b[33m\"\u001b[39m\u001b[33mmessages\u001b[39m\u001b[33m\"\u001b[39m: [{\u001b[33m\"\u001b[39m\u001b[33mrole\u001b[39m\u001b[33m\"\u001b[39m: \u001b[33m\"\u001b[39m\u001b[33muser\u001b[39m\u001b[33m\"\u001b[39m, \u001b[33m\"\u001b[39m\u001b[33mcontent\u001b[39m\u001b[33m\"\u001b[39m: \u001b[33m\"\u001b[39m\u001b[33mCan i get some earphones for myself, a laptop bag for my wife and something cool for my kids?\u001b[39m\u001b[33m\"\u001b[39m}],\n\u001b[32m      3\u001b[39m     \u001b[33m\"\u001b[39m\u001b[33mavailable_tools\u001b[39m\u001b[33m\"\u001b[39m: tool_descriptions\n\u001b[32m      4\u001b[39m }\n\u001b[32m----> \u001b[39m\u001b[32m5\u001b[39m result = \u001b[38;5;28;01mawait\u001b[39;00m graph.ainvoke(initial_state)\n",
      "\u001b[36mFile \u001b[39m\u001b[32m~/Development/AIML/SwirlAI/AI_bootcamp_summer_2025/01-ai-engineering-bootcamp/.venv/lib/python3.12/site-packages/langgraph/pregel/__init__.py:2920\u001b[39m, in \u001b[36mPregel.ainvoke\u001b[39m\u001b[34m(self, input, config, stream_mode, print_mode, output_keys, interrupt_before, interrupt_after, **kwargs)\u001b[39m\n\u001b[32m   2917\u001b[39m chunks: \u001b[38;5;28mlist\u001b[39m[\u001b[38;5;28mdict\u001b[39m[\u001b[38;5;28mstr\u001b[39m, Any] | Any] = []\n\u001b[32m   2918\u001b[39m interrupts: \u001b[38;5;28mlist\u001b[39m[Interrupt] = []\n\u001b[32m-> \u001b[39m\u001b[32m2920\u001b[39m \u001b[38;5;28;01masync\u001b[39;00m \u001b[38;5;28;01mfor\u001b[39;00m chunk \u001b[38;5;129;01min\u001b[39;00m \u001b[38;5;28mself\u001b[39m.astream(\n\u001b[32m   2921\u001b[39m     \u001b[38;5;28minput\u001b[39m,\n\u001b[32m   2922\u001b[39m     config,\n\u001b[32m   2923\u001b[39m     stream_mode=[\u001b[33m\"\u001b[39m\u001b[33mupdates\u001b[39m\u001b[33m\"\u001b[39m, \u001b[33m\"\u001b[39m\u001b[33mvalues\u001b[39m\u001b[33m\"\u001b[39m]\n\u001b[32m   2924\u001b[39m     \u001b[38;5;28;01mif\u001b[39;00m stream_mode == \u001b[33m\"\u001b[39m\u001b[33mvalues\u001b[39m\u001b[33m\"\u001b[39m\n\u001b[32m   2925\u001b[39m     \u001b[38;5;28;01melse\u001b[39;00m stream_mode,\n\u001b[32m   2926\u001b[39m     print_mode=print_mode,\n\u001b[32m   2927\u001b[39m     output_keys=output_keys,\n\u001b[32m   2928\u001b[39m     interrupt_before=interrupt_before,\n\u001b[32m   2929\u001b[39m     interrupt_after=interrupt_after,\n\u001b[32m   2930\u001b[39m     **kwargs,\n\u001b[32m   2931\u001b[39m ):\n\u001b[32m   2932\u001b[39m     \u001b[38;5;28;01mif\u001b[39;00m stream_mode == \u001b[33m\"\u001b[39m\u001b[33mvalues\u001b[39m\u001b[33m\"\u001b[39m:\n\u001b[32m   2933\u001b[39m         \u001b[38;5;28;01mif\u001b[39;00m \u001b[38;5;28mlen\u001b[39m(chunk) == \u001b[32m2\u001b[39m:\n",
      "\u001b[36mFile \u001b[39m\u001b[32m~/Development/AIML/SwirlAI/AI_bootcamp_summer_2025/01-ai-engineering-bootcamp/.venv/lib/python3.12/site-packages/langgraph/pregel/__init__.py:2768\u001b[39m, in \u001b[36mPregel.astream\u001b[39m\u001b[34m(self, input, config, stream_mode, print_mode, output_keys, interrupt_before, interrupt_after, checkpoint_during, debug, subgraphs)\u001b[39m\n\u001b[32m   2766\u001b[39m \u001b[38;5;28;01mfor\u001b[39;00m task \u001b[38;5;129;01min\u001b[39;00m \u001b[38;5;28;01mawait\u001b[39;00m loop.amatch_cached_writes():\n\u001b[32m   2767\u001b[39m     loop.output_writes(task.id, task.writes, cached=\u001b[38;5;28;01mTrue\u001b[39;00m)\n\u001b[32m-> \u001b[39m\u001b[32m2768\u001b[39m \u001b[38;5;28;01masync\u001b[39;00m \u001b[38;5;28;01mfor\u001b[39;00m _ \u001b[38;5;129;01min\u001b[39;00m runner.atick(\n\u001b[32m   2769\u001b[39m     [t \u001b[38;5;28;01mfor\u001b[39;00m t \u001b[38;5;129;01min\u001b[39;00m loop.tasks.values() \u001b[38;5;28;01mif\u001b[39;00m \u001b[38;5;129;01mnot\u001b[39;00m t.writes],\n\u001b[32m   2770\u001b[39m     timeout=\u001b[38;5;28mself\u001b[39m.step_timeout,\n\u001b[32m   2771\u001b[39m     get_waiter=get_waiter,\n\u001b[32m   2772\u001b[39m     schedule_task=loop.aaccept_push,\n\u001b[32m   2773\u001b[39m ):\n\u001b[32m   2774\u001b[39m     \u001b[38;5;66;03m# emit output\u001b[39;00m\n\u001b[32m   2775\u001b[39m     \u001b[38;5;28;01mfor\u001b[39;00m o \u001b[38;5;129;01min\u001b[39;00m _output(\n\u001b[32m   2776\u001b[39m         stream_mode,\n\u001b[32m   2777\u001b[39m         print_mode,\n\u001b[32m   (...)\u001b[39m\u001b[32m   2780\u001b[39m         asyncio.QueueEmpty,\n\u001b[32m   2781\u001b[39m     ):\n\u001b[32m   2782\u001b[39m         \u001b[38;5;28;01myield\u001b[39;00m o\n",
      "\u001b[36mFile \u001b[39m\u001b[32m~/Development/AIML/SwirlAI/AI_bootcamp_summer_2025/01-ai-engineering-bootcamp/.venv/lib/python3.12/site-packages/langgraph/graph/branch.py:181\u001b[39m, in \u001b[36mBranch._aroute\u001b[39m\u001b[34m(self, input, config, reader, writer)\u001b[39m\n\u001b[32m    172\u001b[39m \u001b[38;5;28;01masync\u001b[39;00m \u001b[38;5;28;01mdef\u001b[39;00m\u001b[38;5;250m \u001b[39m\u001b[34m_aroute\u001b[39m(\n\u001b[32m    173\u001b[39m     \u001b[38;5;28mself\u001b[39m,\n\u001b[32m    174\u001b[39m     \u001b[38;5;28minput\u001b[39m: Any,\n\u001b[32m   (...)\u001b[39m\u001b[32m    178\u001b[39m     writer: Writer,\n\u001b[32m    179\u001b[39m ) -> Runnable:\n\u001b[32m    180\u001b[39m     \u001b[38;5;28;01mif\u001b[39;00m reader:\n\u001b[32m--> \u001b[39m\u001b[32m181\u001b[39m         value = \u001b[43mreader\u001b[49m\u001b[43m(\u001b[49m\u001b[43mconfig\u001b[49m\u001b[43m)\u001b[49m\n\u001b[32m    182\u001b[39m         \u001b[38;5;66;03m# passthrough additional keys from node to branch\u001b[39;00m\n\u001b[32m    183\u001b[39m         \u001b[38;5;66;03m# only doable when using dict states\u001b[39;00m\n\u001b[32m    184\u001b[39m         \u001b[38;5;28;01mif\u001b[39;00m (\n\u001b[32m    185\u001b[39m             \u001b[38;5;28misinstance\u001b[39m(value, \u001b[38;5;28mdict\u001b[39m)\n\u001b[32m    186\u001b[39m             \u001b[38;5;129;01mand\u001b[39;00m \u001b[38;5;28misinstance\u001b[39m(\u001b[38;5;28minput\u001b[39m, \u001b[38;5;28mdict\u001b[39m)\n\u001b[32m    187\u001b[39m             \u001b[38;5;129;01mand\u001b[39;00m \u001b[38;5;28mself\u001b[39m.input_schema \u001b[38;5;129;01mis\u001b[39;00m \u001b[38;5;28;01mNone\u001b[39;00m\n\u001b[32m    188\u001b[39m         ):\n",
      "\u001b[36mFile \u001b[39m\u001b[32m~/Development/AIML/SwirlAI/AI_bootcamp_summer_2025/01-ai-engineering-bootcamp/.venv/lib/python3.12/site-packages/langgraph/pregel/read.py:90\u001b[39m, in \u001b[36mChannelRead.do_read\u001b[39m\u001b[34m(config, select, fresh, mapper)\u001b[39m\n\u001b[32m     85\u001b[39m     \u001b[38;5;28;01mraise\u001b[39;00m \u001b[38;5;167;01mRuntimeError\u001b[39;00m(\n\u001b[32m     86\u001b[39m         \u001b[33m\"\u001b[39m\u001b[33mNot configured with a read function\u001b[39m\u001b[33m\"\u001b[39m\n\u001b[32m     87\u001b[39m         \u001b[33m\"\u001b[39m\u001b[33mMake sure to call in the context of a Pregel process\u001b[39m\u001b[33m\"\u001b[39m\n\u001b[32m     88\u001b[39m     )\n\u001b[32m     89\u001b[39m \u001b[38;5;28;01mif\u001b[39;00m mapper:\n\u001b[32m---> \u001b[39m\u001b[32m90\u001b[39m     \u001b[38;5;28;01mreturn\u001b[39;00m \u001b[43mmapper\u001b[49m\u001b[43m(\u001b[49m\u001b[43mread\u001b[49m\u001b[43m(\u001b[49m\u001b[43mselect\u001b[49m\u001b[43m,\u001b[49m\u001b[43m \u001b[49m\u001b[43mfresh\u001b[49m\u001b[43m)\u001b[49m\u001b[43m)\u001b[49m\n\u001b[32m     91\u001b[39m \u001b[38;5;28;01melse\u001b[39;00m:\n\u001b[32m     92\u001b[39m     \u001b[38;5;28;01mreturn\u001b[39;00m read(select, fresh)\n",
      "\u001b[36mFile \u001b[39m\u001b[32m~/Development/AIML/SwirlAI/AI_bootcamp_summer_2025/01-ai-engineering-bootcamp/.venv/lib/python3.12/site-packages/langgraph/graph/state.py:1222\u001b[39m, in \u001b[36m_coerce_state\u001b[39m\u001b[34m(schema, input)\u001b[39m\n\u001b[32m   1221\u001b[39m \u001b[38;5;28;01mdef\u001b[39;00m\u001b[38;5;250m \u001b[39m\u001b[34m_coerce_state\u001b[39m(schema: \u001b[38;5;28mtype\u001b[39m[Any], \u001b[38;5;28minput\u001b[39m: \u001b[38;5;28mdict\u001b[39m[\u001b[38;5;28mstr\u001b[39m, Any]) -> \u001b[38;5;28mdict\u001b[39m[\u001b[38;5;28mstr\u001b[39m, Any]:\n\u001b[32m-> \u001b[39m\u001b[32m1222\u001b[39m     \u001b[38;5;28;01mreturn\u001b[39;00m \u001b[43mschema\u001b[49m\u001b[43m(\u001b[49m\u001b[43m*\u001b[49m\u001b[43m*\u001b[49m\u001b[38;5;28;43minput\u001b[39;49m\u001b[43m)\u001b[49m\n",
      "\u001b[36mFile \u001b[39m\u001b[32m~/Development/AIML/SwirlAI/AI_bootcamp_summer_2025/01-ai-engineering-bootcamp/.venv/lib/python3.12/site-packages/pydantic/main.py:253\u001b[39m, in \u001b[36mBaseModel.__init__\u001b[39m\u001b[34m(self, **data)\u001b[39m\n\u001b[32m    251\u001b[39m \u001b[38;5;66;03m# `__tracebackhide__` tells pytest and some other tools to omit this function from tracebacks\u001b[39;00m\n\u001b[32m    252\u001b[39m __tracebackhide__ = \u001b[38;5;28;01mTrue\u001b[39;00m\n\u001b[32m--> \u001b[39m\u001b[32m253\u001b[39m validated_self = \u001b[38;5;28;43mself\u001b[39;49m\u001b[43m.\u001b[49m\u001b[43m__pydantic_validator__\u001b[49m\u001b[43m.\u001b[49m\u001b[43mvalidate_python\u001b[49m\u001b[43m(\u001b[49m\u001b[43mdata\u001b[49m\u001b[43m,\u001b[49m\u001b[43m \u001b[49m\u001b[43mself_instance\u001b[49m\u001b[43m=\u001b[49m\u001b[38;5;28;43mself\u001b[39;49m\u001b[43m)\u001b[49m\n\u001b[32m    254\u001b[39m \u001b[38;5;28;01mif\u001b[39;00m \u001b[38;5;28mself\u001b[39m \u001b[38;5;129;01mis\u001b[39;00m \u001b[38;5;129;01mnot\u001b[39;00m validated_self:\n\u001b[32m    255\u001b[39m     warnings.warn(\n\u001b[32m    256\u001b[39m         \u001b[33m'\u001b[39m\u001b[33mA custom validator is returning a value other than `self`.\u001b[39m\u001b[38;5;130;01m\\n\u001b[39;00m\u001b[33m'\u001b[39m\n\u001b[32m    257\u001b[39m         \u001b[33m\"\u001b[39m\u001b[33mReturning anything other than `self` from a top level model validator isn\u001b[39m\u001b[33m'\u001b[39m\u001b[33mt supported when validating via `__init__`.\u001b[39m\u001b[38;5;130;01m\\n\u001b[39;00m\u001b[33m\"\u001b[39m\n\u001b[32m    258\u001b[39m         \u001b[33m'\u001b[39m\u001b[33mSee the `model_validator` docs (https://docs.pydantic.dev/latest/concepts/validators/#model-validators) for more details.\u001b[39m\u001b[33m'\u001b[39m,\n\u001b[32m    259\u001b[39m         stacklevel=\u001b[32m2\u001b[39m,\n\u001b[32m    260\u001b[39m     )\n",
      "\u001b[31mValidationError\u001b[39m: 3 validation errors for State\ntool_calls.0\n  Input should be a valid dictionary or instance of ToolCall [type=model_type, input_value=ToolCall(name='get_format...p://localhost:8001/mcp'), input_type=ToolCall]\n    For further information visit https://errors.pydantic.dev/2.11/v/model_type\ntool_calls.1\n  Input should be a valid dictionary or instance of ToolCall [type=model_type, input_value=ToolCall(name='get_format...p://localhost:8001/mcp'), input_type=ToolCall]\n    For further information visit https://errors.pydantic.dev/2.11/v/model_type\ntool_calls.2\n  Input should be a valid dictionary or instance of ToolCall [type=model_type, input_value=ToolCall(name='get_format...p://localhost:8001/mcp'), input_type=ToolCall]\n    For further information visit https://errors.pydantic.dev/2.11/v/model_type",
      "During task with name 'agent_node' and id '7725f3da-e5b8-23d8-f5a8-29a0ce21c619'"
     ]
    }
   ],
   "source": [
    "initial_state = {\n",
    "    \"messages\": [{\"role\": \"user\", \"content\": \"Can i get some earphones for myself, a laptop bag for my wife and something cool for my kids?\"}],\n",
    "    \"available_tools\": tool_descriptions\n",
    "}\n",
    "result = await graph.ainvoke(initial_state)\n",
    "\n"
   ]
  },
  {
   "cell_type": "code",
   "execution_count": null,
   "id": "d124c157",
   "metadata": {},
   "outputs": [],
   "source": []
  }
 ],
 "metadata": {
  "kernelspec": {
   "display_name": "01-ai-engineering-bootcamp",
   "language": "python",
   "name": "python3"
  },
  "language_info": {
   "codemirror_mode": {
    "name": "ipython",
    "version": 3
   },
   "file_extension": ".py",
   "mimetype": "text/x-python",
   "name": "python",
   "nbconvert_exporter": "python",
   "pygments_lexer": "ipython3",
   "version": "3.12.11"
  }
 },
 "nbformat": 4,
 "nbformat_minor": 5
}
