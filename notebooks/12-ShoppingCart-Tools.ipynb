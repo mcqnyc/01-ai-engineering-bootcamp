{
 "cells": [
  {
   "cell_type": "code",
   "execution_count": 15,
   "id": "2798647a",
   "metadata": {},
   "outputs": [],
   "source": [
    "from fastmcp import Client\n",
    "\n",
    "from pydantic import BaseModel, Field\n",
    "\n",
    "from qdrant_client import QdrantClient\n",
    "from qdrant_client.models import Prefetch, Filter, FieldCondition, MatchText, FusionQuery, MatchValue\n",
    "\n",
    "from langsmith import traceable, get_current_run_tree\n",
    "\n",
    "from langgraph.graph import StateGraph, START, END\n",
    "from langgraph.prebuilt import ToolNode\n",
    "\n",
    "from langchain_core.messages import AIMessage, ToolMessage\n",
    "\n",
    "from jinja2 import Template\n",
    "from typing import Literal, Dict, Any, Annotated, List, Optional\n",
    "from IPython.display import Image, display\n",
    "from operator import add\n",
    "from openai import OpenAI\n",
    "\n",
    "import openai\n",
    "\n",
    "import random\n",
    "import ast\n",
    "import inspect\n",
    "import instructor\n",
    "import json\n",
    "import psycopg2\n",
    "import numpy as np\n",
    "from psycopg2.extras import RealDictCursor\n"
   ]
  },
  {
   "cell_type": "code",
   "execution_count": 2,
   "id": "10f33d56",
   "metadata": {},
   "outputs": [],
   "source": [
    "import os\n",
    "\n",
    "api_key = os.getenv(\"OPENAI_API_KEY\")\n",
    "if not api_key:\n",
    "    api_key = input(\"Please enter your OpenAI API key: \").strip()\n",
    "    os.environ[\"OPENAI_API_KEY\"] = api_key\n",
    "    if not api_key:\n",
    "        raise ValueError(\"API key is required.\")"
   ]
  },
  {
   "cell_type": "markdown",
   "id": "cb68954a",
   "metadata": {},
   "source": [
    "### Add to shopping cart tool"
   ]
  },
  {
   "cell_type": "code",
   "execution_count": 13,
   "id": "50a86df0",
   "metadata": {},
   "outputs": [],
   "source": [
    "def add_to_shopping_cart(items: list[dict], user_id: str, cart_id: str) -> str:\n",
    "\n",
    "    \"\"\"Add a list of provided items to the shopping cart.\n",
    "    \n",
    "    Args:\n",
    "        items: A list of items to add to the shopping cart. Each item is a dictionary with the following keys: product_id, quantity.\n",
    "        user_id: The id of the user to add the items to the shopping cart.\n",
    "        cart_id: The id of the shopping cart to add the items to.\n",
    "        \n",
    "    Returns:\n",
    "        A list of the items added to the shopping cart.\n",
    "    \"\"\"\n",
    "\n",
    "    conn = psycopg2.connect(\n",
    "        host=\"localhost\",\n",
    "        port=5433,\n",
    "        database=\"langgraph_db\",\n",
    "        user=\"langgraph_user\",\n",
    "        password=\"langgraph_password\"\n",
    "    )\n",
    "    conn.autocommit = True\n",
    "\n",
    "    # with conn.cursor() as cursor:\n",
    "    with conn.cursor(cursor_factory=RealDictCursor) as cursor:\n",
    "        \n",
    "        for item in items:\n",
    "            product_id = item['product_id']\n",
    "            quantity = item['quantity']\n",
    "\n",
    "            qdrant_client = QdrantClient(url=\"http://localhost:6333\")\n",
    "\n",
    "            dummy_vector = np.zeros(1536).tolist()\n",
    "            payload = qdrant_client.query_points(\n",
    "                collection_name=\"Amazon-items-collection-02-items\",\n",
    "                query=dummy_vector,\n",
    "                query_filter=Filter(\n",
    "                    must=[\n",
    "                        FieldCondition(\n",
    "                            key=\"parent_asin\",\n",
    "                            match=MatchValue(value=product_id)\n",
    "                        )\n",
    "                    ]\n",
    "                ),\n",
    "                with_payload=True,\n",
    "                limit=1\n",
    "            ).points[0].payload\n",
    "\n",
    "            product_image_url = payload.get(\"first_large_image\")\n",
    "            price = payload.get(\"price\")\n",
    "            currency = 'USD'\n",
    "        \n",
    "            # Check if item already exists\n",
    "            check_query = \"\"\"\n",
    "                SELECT id, quantity, price \n",
    "                FROM shopping_carts.shopping_cart_items \n",
    "                WHERE user_id = %s AND shopping_cart_id = %s AND product_id = %s\n",
    "            \"\"\"\n",
    "            cursor.execute(check_query, (user_id, cart_id, product_id))\n",
    "            existing_item = cursor.fetchone()\n",
    "            \n",
    "            if existing_item:\n",
    "                # Update existing item\n",
    "                new_quantity = existing_item[1] + quantity\n",
    "                # new_quantity = existing_item['quantity'] + quantity\n",
    "                \n",
    "                update_query = \"\"\"\n",
    "                    UPDATE shopping_carts.shopping_cart_items \n",
    "                    SET \n",
    "                        quantity = %s,\n",
    "                        price = %s,\n",
    "                        currency = %s,\n",
    "                        product_image_url = COALESCE(%s, product_image_url)\n",
    "                    WHERE user_id = %s AND shopping_cart_id = %s AND product_id = %s\n",
    "                    RETURNING id, quantity, price\n",
    "                \"\"\"\n",
    "                \n",
    "                cursor.execute(update_query, (new_quantity, price, currency, product_image_url, user_id, cart_id, product_id))\n",
    "            \n",
    "            else:\n",
    "                # Insert new item\n",
    "                insert_query = \"\"\"\n",
    "                    INSERT INTO shopping_carts.shopping_cart_items (\n",
    "                        user_id, shopping_cart_id, product_id,\n",
    "                        price, quantity, currency, product_image_url\n",
    "                    ) VALUES (%s, %s, %s, %s, %s, %s, %s)\n",
    "                    RETURNING id, quantity, price\n",
    "                \"\"\"\n",
    "                \n",
    "                cursor.execute(insert_query, (user_id, cart_id, product_id, price, quantity, currency, product_image_url))\n",
    "            \n",
    "    return f\"Added {items} to the shopping cart.\""
   ]
  },
  {
   "cell_type": "code",
   "execution_count": null,
   "id": "ae2b1dd5",
   "metadata": {},
   "outputs": [],
   "source": []
  },
  {
   "cell_type": "code",
   "execution_count": null,
   "id": "ac3961f3",
   "metadata": {},
   "outputs": [
    {
     "data": {
      "text/plain": [
       "\"Added [{'product_id': 'B09MCY26HF', 'quantity': 2, 'price': 19.99, 'currency': 'USD'}] to the shopping cart.\""
      ]
     },
     "execution_count": 9,
     "metadata": {},
     "output_type": "execute_result"
    }
   ],
   "source": [
    "items = [{\n",
    "    \"product_id\": \"B09MCY26HF\",\n",
    "    \"quantity\": 2,\n",
    "}]\n",
    "\n",
    "add_to_shopping_cart(items, \"user123\", \"cart456\")"
   ]
  },
  {
   "cell_type": "markdown",
   "id": "cef96784",
   "metadata": {},
   "source": [
    "### Get the shopping cart tool"
   ]
  },
  {
   "cell_type": "code",
   "execution_count": 12,
   "id": "bb85541d",
   "metadata": {},
   "outputs": [],
   "source": [
    "def get_shopping_cart(user_id: str, cart_id: str) -> list[dict]:\n",
    "\n",
    "    \"\"\"\n",
    "    Retrieve all items in a user's shopping cart.\n",
    "    \n",
    "    Args:\n",
    "        user_id: User ID\n",
    "        shopping_cart_id: Cart identifier\n",
    "    \n",
    "    Returns:\n",
    "        List of dictionaries containing cart items\n",
    "    \"\"\"\n",
    "    \n",
    "    conn = psycopg2.connect(\n",
    "        host=\"localhost\",\n",
    "        port=5433,\n",
    "        database=\"langgraph_db\",\n",
    "        user=\"langgraph_user\",\n",
    "        password=\"langgraph_password\"\n",
    "    )\n",
    "    conn.autocommit = True\n",
    "\n",
    "    with conn.cursor(cursor_factory=RealDictCursor) as cursor:\n",
    "\n",
    "        query = \"\"\"\n",
    "                SELECT \n",
    "                    product_id, price, quantity,\n",
    "                    currency, product_image_url,\n",
    "                    (price * quantity) as total_price\n",
    "                FROM shopping_carts.shopping_cart_items \n",
    "                WHERE user_id = %s AND shopping_cart_id = %s\n",
    "                ORDER BY added_at DESC\n",
    "            \"\"\"\n",
    "        cursor.execute(query, (user_id, cart_id))\n",
    "\n",
    "        return [dict(row) for row in cursor.fetchall()]"
   ]
  },
  {
   "cell_type": "code",
   "execution_count": 16,
   "id": "4dc30776",
   "metadata": {},
   "outputs": [
    {
     "data": {
      "text/plain": [
       "[{'product_id': 'B09MCY26HF',\n",
       "  'price': Decimal('21.00'),\n",
       "  'quantity': 2,\n",
       "  'currency': 'USD',\n",
       "  'product_image_url': 'https://m.media-amazon.com/images/I/41gqwN41WpL._AC_.jpg',\n",
       "  'total_price': Decimal('42.00')}]"
      ]
     },
     "execution_count": 16,
     "metadata": {},
     "output_type": "execute_result"
    }
   ],
   "source": [
    "get_shopping_cart(\"user123\", \"cart456\")"
   ]
  },
  {
   "cell_type": "markdown",
   "id": "cefbbfb7",
   "metadata": {},
   "source": [
    "### Delete Items From Shopping Cart Tool\n"
   ]
  },
  {
   "cell_type": "code",
   "execution_count": 17,
   "id": "53bd0f85",
   "metadata": {},
   "outputs": [],
   "source": [
    "def remove_from_cart(product_id: str, user_id: str, cart_id: str) -> str:\n",
    "\n",
    "    \"\"\"\n",
    "    Remove an item completely from the shopping cart.\n",
    "    \n",
    "    Args:\n",
    "        user_id: User ID\n",
    "        product_id: Product ID to remove\n",
    "        shopping_cart_id: Cart identifier\n",
    "    \n",
    "    Returns:\n",
    "        True if item was removed, False if item wasn't found\n",
    "    \"\"\"\n",
    "    \n",
    "    conn = psycopg2.connect(\n",
    "        host=\"localhost\",\n",
    "        port=5433,\n",
    "        database=\"langgraph_db\",\n",
    "        user=\"langgraph_user\",\n",
    "        password=\"langgraph_password\"\n",
    "    )\n",
    "    conn.autocommit = True\n",
    "\n",
    "    with conn.cursor(cursor_factory=RealDictCursor) as cursor:\n",
    "\n",
    "        query = \"\"\"\n",
    "                DELETE FROM shopping_carts.shopping_cart_items\n",
    "                WHERE user_id = %s AND shopping_cart_id = %s AND product_id = %s\n",
    "            \"\"\"\n",
    "        cursor.execute(query, (user_id, cart_id, product_id))\n",
    "\n",
    "        return cursor.rowcount > 0"
   ]
  }
 ],
 "metadata": {
  "kernelspec": {
   "display_name": "01-ai-engineering-bootcamp",
   "language": "python",
   "name": "python3"
  },
  "language_info": {
   "codemirror_mode": {
    "name": "ipython",
    "version": 3
   },
   "file_extension": ".py",
   "mimetype": "text/x-python",
   "name": "python",
   "nbconvert_exporter": "python",
   "pygments_lexer": "ipython3",
   "version": "3.12.11"
  }
 },
 "nbformat": 4,
 "nbformat_minor": 5
}
